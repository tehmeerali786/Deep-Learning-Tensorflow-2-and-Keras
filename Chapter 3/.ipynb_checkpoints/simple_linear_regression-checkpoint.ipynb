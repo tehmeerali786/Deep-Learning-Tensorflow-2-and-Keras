{
 "cells": [
  {
   "cell_type": "code",
   "execution_count": 2,
   "metadata": {},
   "outputs": [],
   "source": [
    "import numpy as np\n",
    "import pandas as pd\n",
    "import matplotlib.pyplot as plt"
   ]
  },
  {
   "cell_type": "code",
   "execution_count": 4,
   "metadata": {},
   "outputs": [],
   "source": [
    "# Generate a random data\n",
    "np.random.seed(0)\n",
    "area = 2.5 * np.random.randn(100) + 25\n",
    "price = 25 * area + 5 + np.random.randint(20, 50, size=len(area))\n"
   ]
  },
  {
   "cell_type": "code",
   "execution_count": 6,
   "metadata": {},
   "outputs": [],
   "source": [
    "data = np.array([area, price])\n",
    "data = pd.DataFrame(data=data.T, columns=['area', 'price'])"
   ]
  },
  {
   "cell_type": "code",
   "execution_count": 7,
   "metadata": {},
   "outputs": [
    {
     "data": {
      "text/html": [
       "<div>\n",
       "<style scoped>\n",
       "    .dataframe tbody tr th:only-of-type {\n",
       "        vertical-align: middle;\n",
       "    }\n",
       "\n",
       "    .dataframe tbody tr th {\n",
       "        vertical-align: top;\n",
       "    }\n",
       "\n",
       "    .dataframe thead th {\n",
       "        text-align: right;\n",
       "    }\n",
       "</style>\n",
       "<table border=\"1\" class=\"dataframe\">\n",
       "  <thead>\n",
       "    <tr style=\"text-align: right;\">\n",
       "      <th></th>\n",
       "      <th>area</th>\n",
       "      <th>price</th>\n",
       "    </tr>\n",
       "  </thead>\n",
       "  <tbody>\n",
       "    <tr>\n",
       "      <th>0</th>\n",
       "      <td>29.410131</td>\n",
       "      <td>760.253272</td>\n",
       "    </tr>\n",
       "    <tr>\n",
       "      <th>1</th>\n",
       "      <td>26.000393</td>\n",
       "      <td>679.009826</td>\n",
       "    </tr>\n",
       "    <tr>\n",
       "      <th>2</th>\n",
       "      <td>27.446845</td>\n",
       "      <td>738.171124</td>\n",
       "    </tr>\n",
       "    <tr>\n",
       "      <th>3</th>\n",
       "      <td>30.602233</td>\n",
       "      <td>817.055825</td>\n",
       "    </tr>\n",
       "    <tr>\n",
       "      <th>4</th>\n",
       "      <td>29.668895</td>\n",
       "      <td>791.722374</td>\n",
       "    </tr>\n",
       "  </tbody>\n",
       "</table>\n",
       "</div>"
      ],
      "text/plain": [
       "        area       price\n",
       "0  29.410131  760.253272\n",
       "1  26.000393  679.009826\n",
       "2  27.446845  738.171124\n",
       "3  30.602233  817.055825\n",
       "4  29.668895  791.722374"
      ]
     },
     "execution_count": 7,
     "metadata": {},
     "output_type": "execute_result"
    }
   ],
   "source": [
    "data.head()"
   ]
  },
  {
   "cell_type": "code",
   "execution_count": 8,
   "metadata": {},
   "outputs": [
    {
     "data": {
      "image/png": "[encoded data removed]",
      "text/plain": [
       "<Figure size 432x288 with 1 Axes>"
      ]
     },
     "metadata": {
      "needs_background": "light"
     },
     "output_type": "display_data"
    }
   ],
   "source": [
    "plt.scatter(data['area'], data['price'])\n",
    "plt.show()"
   ]
  },
  {
   "cell_type": "code",
   "execution_count": 9,
   "metadata": {},
   "outputs": [],
   "source": [
    "W = sum(price * (area - np.mean(area))) / sum((area-np.mean(area)) ** 2)\n",
    "b = np.mean(price) - W * np.mean(area)"
   ]
  },
  {
   "cell_type": "code",
   "execution_count": 10,
   "metadata": {},
   "outputs": [
    {
     "name": "stdout",
     "output_type": "stream",
     "text": [
      "The regression coefficients are:  24.815544052284988 43.4989785533412\n"
     ]
    }
   ],
   "source": [
    "print(\"The regression coefficients are: \", W,b)"
   ]
  },
  {
   "cell_type": "code",
   "execution_count": 11,
   "metadata": {},
   "outputs": [],
   "source": [
    "# predicted values\n",
    "y_pred = W * area + b"
   ]
  },
  {
   "cell_type": "code",
   "execution_count": 12,
   "metadata": {},
   "outputs": [
    {
     "data": {
      "image/png": "[encoded data removed]",
      "text/plain": [
       "<Figure size 432x288 with 1 Axes>"
      ]
     },
     "metadata": {
      "needs_background": "light"
     },
     "output_type": "display_data"
    }
   ],
   "source": [
    "plt.plot(area, y_pred, color='red', label='Predicted Price')\n",
    "plt.scatter(data['area'], data['price'], label='Training Data')\n",
    "plt.xlabel('Area')\n",
    "plt.ylabel('Price')\n",
    "plt.legend()\n",
    "plt.show()"
   ]
  },
  {
   "cell_type": "code",
   "execution_count": 14,
   "metadata": {},
   "outputs": [
    {
     "data": {
      "text/plain": [
       "array([ 2.52808332, -1.82031997, -0.54308808,  1.32504189, -4.73988281,\n",
       "        0.81171353, -0.81918725,  1.25766883,  2.51387302,  1.43671456,\n",
       "        3.8917001 , -1.04729586, -1.02429229,  2.79093635, -0.62744825,\n",
       "       -1.03807021, -1.59771537,  6.24441899, -7.5128204 , -2.18499308,\n",
       "       -6.62547311,  2.81001363, -0.53409252,  2.82957891,  0.09308261,\n",
       "        3.25687583,  0.62475113, -1.61466927,  1.17799002, -0.99525823,\n",
       "       -2.39803798,  1.35218262, -0.19561366,  4.58448186,  2.56173324,\n",
       "       -0.20416858, -6.56886097, -0.89114437, -0.24650717, -3.25098851,\n",
       "        0.72184903,  3.62844388, -0.44479545, -0.42476712,  1.37531791,\n",
       "        5.2407019 , -2.19200727, -1.0824796 , -2.1147472 ,  0.40933185,\n",
       "        0.74599687,  0.59417394, -0.38951203, -2.14877975,  6.322531  ,\n",
       "       -2.11121234,  2.22665513,  1.9300094 ,  0.05078411, -3.95812535,\n",
       "        0.18861163,  1.48028376,  0.60195724, -1.99136787, -0.15348904,\n",
       "        0.16274896,  0.6216245 , -1.88682643,  4.24857837, -0.98186662,\n",
       "       -2.15623798,  2.70613987, -0.37445554, -2.53698086,  1.72238172,\n",
       "       -5.85277081,  0.31535073,  3.00234774,  2.40749228,  3.97516588,\n",
       "        1.54307808, -1.19454091,  4.34069848,  7.42674965,  1.53783639,\n",
       "        5.16735876,  0.19385807, -1.1307977 , -1.49388712,  3.27191749,\n",
       "        0.96469283, -0.01797686, -1.65746435, -3.36761572, -0.23799821,\n",
       "       -0.56931947,  1.08109169,  1.16734922, -3.3507035 ,  3.55714914])"
      ]
     },
     "execution_count": 14,
     "metadata": {},
     "output_type": "execute_result"
    }
   ],
   "source": [
    "2.5 * np.random.randn(100) +"
   ]
  },
  {
   "cell_type": "code",
   "execution_count": 15,
   "metadata": {},
   "outputs": [
    {
     "data": {
      "text/plain": [
       "array([32, 46, 30, 47, 42, 34, 28, 27, 33, 25, 35, 47, 30, 23, 30, 38, 45,\n",
       "       47, 45, 23, 49, 34, 38, 25, 46, 24, 37, 25, 44, 23, 25, 28, 24, 46,\n",
       "       37, 43, 44, 21, 38, 21, 34, 37, 27, 41, 31, 34, 36, 40, 21, 37, 49,\n",
       "       32, 42, 34, 42, 20, 22, 39, 43, 48, 45, 34, 38, 31, 40, 29, 34, 20,\n",
       "       32, 42, 29, 38, 24, 27, 23, 36, 32, 25, 40, 33, 36, 33, 38, 39, 37,\n",
       "       27, 46, 37, 34, 49, 23, 30, 40, 30, 21, 43, 40, 36, 30, 38])"
      ]
     },
     "execution_count": 15,
     "metadata": {},
     "output_type": "execute_result"
    }
   ],
   "source": [
    "np.random.randint(20, 50, size=len(area))"
   ]
  },
  {
   "cell_type": "code",
   "execution_count": null,
   "metadata": {},
   "outputs": [],
   "source": []
  }
 ],
 "metadata": {
  "kernelspec": {
   "display_name": "Python 3",
   "language": "python",
   "name": "python3"
  },
  "language_info": {
   "codemirror_mode": {
    "name": "ipython",
    "version": 3
   },
   "file_extension": ".py",
   "mimetype": "text/x-python",
   "name": "python",
   "nbconvert_exporter": "python",
   "pygments_lexer": "ipython3",
   "version": "3.7.3"
  }
 },
 "nbformat": 4,
 "nbformat_minor": 2
}
