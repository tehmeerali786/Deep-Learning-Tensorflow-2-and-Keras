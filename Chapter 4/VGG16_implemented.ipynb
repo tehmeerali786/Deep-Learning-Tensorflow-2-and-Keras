{
  "nbformat": 4,
  "nbformat_minor": 0,
  "metadata": {
    "colab": {
      "name": "VGG16_implemented.ipynb",
      "provenance": [],
      "collapsed_sections": []
    },
    "kernelspec": {
      "name": "python3",
      "display_name": "Python 3"
    },
    "accelerator": "GPU"
  },
  "cells": [
    {
      "cell_type": "code",
      "metadata": {
        "id": "8hgydt_t3W67",
        "colab_type": "code",
        "colab": {
          "base_uri": "https://localhost:8080/",
          "height": 102
        },
        "outputId": "0d818bfc-aa27-4804-e74f-8f3df6e5ece7"
      },
      "source": [
        "!pip install -q tensorflow==2.1.0"
      ],
      "execution_count": 1,
      "outputs": [
        {
          "output_type": "stream",
          "text": [
            "\u001b[K     |████████████████████████████████| 421.8MB 17kB/s \n",
            "\u001b[K     |████████████████████████████████| 3.9MB 36.6MB/s \n",
            "\u001b[K     |████████████████████████████████| 450kB 25.4MB/s \n",
            "\u001b[?25h  Building wheel for gast (setup.py) ... \u001b[?25l\u001b[?25hdone\n",
            "\u001b[31mERROR: tensorflow-probability 0.10.0rc0 has requirement gast>=0.3.2, but you'll have gast 0.2.2 which is incompatible.\u001b[0m\n"
          ],
          "name": "stdout"
        }
      ]
    },
    {
      "cell_type": "code",
      "metadata": {
        "id": "XvC0-12G8ZRC",
        "colab_type": "code",
        "colab": {}
      },
      "source": [
        "from tensorflow.keras import layers, models\n",
        "import cv2\n",
        "import numpy as np"
      ],
      "execution_count": 0,
      "outputs": []
    },
    {
      "cell_type": "code",
      "metadata": {
        "id": "Ru5dncWv4IIe",
        "colab_type": "code",
        "colab": {}
      },
      "source": [
        "# definie a VGG16 network\n",
        "\n",
        "def VGG_16(weights_path=None):\n",
        "  model = model.Sequential()\n",
        "  model.add(layers.ZeroPadding2D((1, 1), input_shape=(224, 224, 3)))\n",
        "  model.add(layers.Convolution2D(64, (3, 3), activation='relu'))\n",
        "  model.add(layers.ZeroPadding2D((1, 1)))\n",
        "  model.add(layers.Convolution2D(64, (3, 3), activation='relu'))\n",
        "  model.add(layers.MaxPooling2D((2, 2), strides=(2, 2)))\n",
        "\n",
        "  model.add(layers.ZeroPadding2D(1, 1))\n",
        "  model.add(layers.Convolution2D(128, (3, 3), activation='relu'))\n",
        "  model.add(layers.ZeroPadding((1, 1)))\n",
        "  model.add(layers.Convolution2D(128, (3, 3), activation='relu'))\n",
        "  model.add(layers.MaxPooling2D((2, 2), strides=(2, 2)))\n",
        "\n",
        "  model.add(layers.ZeroPadding2D(1, 1))\n",
        "  model.add(layers.Convolution2D(256, (3, 3), activation='relu'))\n",
        "  model.add(layers.ZeroPadding((1, 1)))\n",
        "  model.add(layers.Convolution2D(256, (3, 3), activation='relu'))\n",
        "  model.add(layers.ZeroPadding((1, 1)))\n",
        "  model.add(layers.Convolution2D(256, (3, 3), activation='relu'))\n",
        "  model.add(layers.MaxPooling2D((2, 2), strides=(2, 2)))\n",
        "\n",
        "  model.add(layers.ZeroPadding2D(1, 1))\n",
        "  model.add(layers.Convolution2D(512, (3, 3), activation='relu'))\n",
        "  model.add(layers.ZeroPadding((1, 1)))\n",
        "  model.add(layers.Convolution2D(512, (3, 3), activation='relu'))\n",
        "  model.add(layers.ZeroPadding((1, 1)))\n",
        "  model.add(layers.Convolution2D(512, (3, 3), activation='relu'))\n",
        "  model.add(layers.MaxPooling2D((2, 2), strides=(2, 2)))\n",
        "\n",
        "  model.add(layers.ZeroPadding2D(1, 1))\n",
        "  model.add(layers.Convolution2D(512, (3, 3), activation='relu'))\n",
        "  model.add(layers.ZeroPadding((1, 1)))\n",
        "  model.add(layers.Convolution2D(512, (3, 3), activation='relu'))\n",
        "  model.add(layers.ZeroPadding((1, 1)))\n",
        "  model.add(layers.Convolution2D(512, (3, 3), activation='relu'))\n",
        "  model.add(layers.MaxPooling2D((2, 2), strides=(2, 2)))\n",
        "\n",
        "  model.add(layers.Flatten())\n",
        "\n",
        "  # top layer of the VGG net\n",
        "  model.add(layers.Dense(4096, activation='relu'))\n",
        "  model.add(layers.Dropout(0.5))\n",
        "  model.add(layers.Dense(4096, activation='relu'))\n",
        "  model.add(layers.Dropout(0.5))\n",
        "  model.add(layers.Dense(1000, activation='softmax'))\n",
        "\n",
        "  if weights_path:\n",
        "    model.load_weights(weights_path)\n",
        "\n",
        "  return model"
      ],
      "execution_count": 0,
      "outputs": []
    },
    {
      "cell_type": "code",
      "metadata": {
        "id": "Kxf0Ru825EZc",
        "colab_type": "code",
        "colab": {}
      },
      "source": [
        "im = cv2.resize(cv2.imread('cat.jpg'), (224, 224)).astype(np.float32)\n",
        "im = np.expand_dims(im, axis=0)"
      ],
      "execution_count": 0,
      "outputs": []
    },
    {
      "cell_type": "code",
      "metadata": {
        "id": "gzUZpLHz6Gca",
        "colab_type": "code",
        "colab": {}
      },
      "source": [
        "# Test pretrained model\n",
        "from tensorflow .keras.applications.vgg16 import VGG16"
      ],
      "execution_count": 0,
      "outputs": []
    },
    {
      "cell_type": "code",
      "metadata": {
        "id": "5q2Muiin7TZ4",
        "colab_type": "code",
        "colab": {
          "base_uri": "https://localhost:8080/",
          "height": 68
        },
        "outputId": "e9d3bb86-847b-4d0e-9c37-5e7cccf784ae"
      },
      "source": [
        "model = VGG16()\n"
      ],
      "execution_count": 6,
      "outputs": [
        {
          "output_type": "stream",
          "text": [
            "Downloading data from https://github.com/fchollet/deep-learning-models/releases/download/v0.1/vgg16_weights_tf_dim_ordering_tf_kernels.h5\n",
            "553467904/553467096 [==============================] - 36s 0us/step\n",
            "<bound method Network.summary of <tensorflow.python.keras.engine.training.Model object at 0x7fc550083da0>>\n"
          ],
          "name": "stdout"
        }
      ]
    },
    {
      "cell_type": "code",
      "metadata": {
        "id": "O-A7uD2E74uj",
        "colab_type": "code",
        "colab": {
          "base_uri": "https://localhost:8080/",
          "height": 952
        },
        "outputId": "56cb7b4f-cfc7-4ada-aa72-7bbe67509ef3"
      },
      "source": [
        "print(model.summary())"
      ],
      "execution_count": 7,
      "outputs": [
        {
          "output_type": "stream",
          "text": [
            "Model: \"vgg16\"\n",
            "_________________________________________________________________\n",
            "Layer (type)                 Output Shape              Param #   \n",
            "=================================================================\n",
            "input_1 (InputLayer)         [(None, 224, 224, 3)]     0         \n",
            "_________________________________________________________________\n",
            "block1_conv1 (Conv2D)        (None, 224, 224, 64)      1792      \n",
            "_________________________________________________________________\n",
            "block1_conv2 (Conv2D)        (None, 224, 224, 64)      36928     \n",
            "_________________________________________________________________\n",
            "block1_pool (MaxPooling2D)   (None, 112, 112, 64)      0         \n",
            "_________________________________________________________________\n",
            "block2_conv1 (Conv2D)        (None, 112, 112, 128)     73856     \n",
            "_________________________________________________________________\n",
            "block2_conv2 (Conv2D)        (None, 112, 112, 128)     147584    \n",
            "_________________________________________________________________\n",
            "block2_pool (MaxPooling2D)   (None, 56, 56, 128)       0         \n",
            "_________________________________________________________________\n",
            "block3_conv1 (Conv2D)        (None, 56, 56, 256)       295168    \n",
            "_________________________________________________________________\n",
            "block3_conv2 (Conv2D)        (None, 56, 56, 256)       590080    \n",
            "_________________________________________________________________\n",
            "block3_conv3 (Conv2D)        (None, 56, 56, 256)       590080    \n",
            "_________________________________________________________________\n",
            "block3_pool (MaxPooling2D)   (None, 28, 28, 256)       0         \n",
            "_________________________________________________________________\n",
            "block4_conv1 (Conv2D)        (None, 28, 28, 512)       1180160   \n",
            "_________________________________________________________________\n",
            "block4_conv2 (Conv2D)        (None, 28, 28, 512)       2359808   \n",
            "_________________________________________________________________\n",
            "block4_conv3 (Conv2D)        (None, 28, 28, 512)       2359808   \n",
            "_________________________________________________________________\n",
            "block4_pool (MaxPooling2D)   (None, 14, 14, 512)       0         \n",
            "_________________________________________________________________\n",
            "block5_conv1 (Conv2D)        (None, 14, 14, 512)       2359808   \n",
            "_________________________________________________________________\n",
            "block5_conv2 (Conv2D)        (None, 14, 14, 512)       2359808   \n",
            "_________________________________________________________________\n",
            "block5_conv3 (Conv2D)        (None, 14, 14, 512)       2359808   \n",
            "_________________________________________________________________\n",
            "block5_pool (MaxPooling2D)   (None, 7, 7, 512)         0         \n",
            "_________________________________________________________________\n",
            "flatten (Flatten)            (None, 25088)             0         \n",
            "_________________________________________________________________\n",
            "fc1 (Dense)                  (None, 4096)              102764544 \n",
            "_________________________________________________________________\n",
            "fc2 (Dense)                  (None, 4096)              16781312  \n",
            "_________________________________________________________________\n",
            "predictions (Dense)          (None, 1000)              4097000   \n",
            "=================================================================\n",
            "Total params: 138,357,544\n",
            "Trainable params: 138,357,544\n",
            "Non-trainable params: 0\n",
            "_________________________________________________________________\n",
            "None\n"
          ],
          "name": "stdout"
        }
      ]
    },
    {
      "cell_type": "code",
      "metadata": {
        "id": "YXg68CYR8I5A",
        "colab_type": "code",
        "colab": {}
      },
      "source": [
        "model.compile(optimizer='sgd', loss='categorical_crossentropy')"
      ],
      "execution_count": 0,
      "outputs": []
    },
    {
      "cell_type": "code",
      "metadata": {
        "id": "c7ypbnTJ9k2G",
        "colab_type": "code",
        "outputId": "5f67cff9-a76a-4cda-daa1-652e74543ea5",
        "colab": {
          "base_uri": "https://localhost:8080/",
          "height": 34
        }
      },
      "source": [
        "out = model.predict(im)\n",
        "print(np.argmax(out))"
      ],
      "execution_count": 9,
      "outputs": [
        {
          "output_type": "stream",
          "text": [
            "285\n"
          ],
          "name": "stdout"
        }
      ]
    },
    {
      "cell_type": "code",
      "metadata": {
        "id": "aynji1gl9uxs",
        "colab_type": "code",
        "colab": {}
      },
      "source": [
        ""
      ],
      "execution_count": 0,
      "outputs": []
    }
  ]
}