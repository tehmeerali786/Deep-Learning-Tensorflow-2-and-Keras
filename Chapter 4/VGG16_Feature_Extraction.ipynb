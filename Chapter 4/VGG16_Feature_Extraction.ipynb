{
  "nbformat": 4,
  "nbformat_minor": 0,
  "metadata": {
    "colab": {
      "name": "VGG16_Feature Extraction.ipynb",
      "provenance": [],
      "collapsed_sections": []
    },
    "kernelspec": {
      "name": "python3",
      "display_name": "Python 3"
    }
  },
  "cells": [
    {
      "cell_type": "code",
      "metadata": {
        "id": "DRJzCLtkuTlh",
        "colab_type": "code",
        "colab": {
          "base_uri": "https://localhost:8080/",
          "height": 102
        },
        "outputId": "73ee3015-50de-465e-a340-f5c3a1a11456"
      },
      "source": [
        "!pip install -q tensorflow==2.1.0"
      ],
      "execution_count": 1,
      "outputs": [
        {
          "output_type": "stream",
          "text": [
            "\u001b[K     |████████████████████████████████| 421.8MB 33kB/s \n",
            "\u001b[K     |████████████████████████████████| 450kB 39.0MB/s \n",
            "\u001b[K     |████████████████████████████████| 3.9MB 38.7MB/s \n",
            "\u001b[?25h  Building wheel for gast (setup.py) ... \u001b[?25l\u001b[?25hdone\n",
            "\u001b[31mERROR: tensorflow-probability 0.10.0rc0 has requirement gast>=0.3.2, but you'll have gast 0.2.2 which is incompatible.\u001b[0m\n"
          ],
          "name": "stdout"
        }
      ]
    },
    {
      "cell_type": "code",
      "metadata": {
        "id": "eS7vkJ9subrE",
        "colab_type": "code",
        "colab": {}
      },
      "source": [
        "import tensorflow as tf\n",
        "from tensorflow.keras.applications.vgg16 import VGG16\n",
        "from tensorflow.keras import models\n",
        "from tensorflow.keras.preprocessing import image\n",
        "from tensorflow.keras.applications.vgg16 import preprocess_input\n",
        "import numpy as np\n",
        "import cv2"
      ],
      "execution_count": 0,
      "outputs": []
    },
    {
      "cell_type": "code",
      "metadata": {
        "id": "7H-MCV9dwQT_",
        "colab_type": "code",
        "colab": {
          "base_uri": "https://localhost:8080/",
          "height": 68
        },
        "outputId": "46ad5ae9-f776-4d1c-e24a-d73fe09836fb"
      },
      "source": [
        "# prebuild model with pre-trained weights on imagenet\n",
        "base_model = VGG16(weights='imagenet', include_top=True)\n",
        "print(base_model)"
      ],
      "execution_count": 3,
      "outputs": [
        {
          "output_type": "stream",
          "text": [
            "Downloading data from https://github.com/fchollet/deep-learning-models/releases/download/v0.1/vgg16_weights_tf_dim_ordering_tf_kernels.h5\n",
            "553467904/553467096 [==============================] - 6s 0us/step\n",
            "<tensorflow.python.keras.engine.training.Model object at 0x7f7069409860>\n"
          ],
          "name": "stdout"
        }
      ]
    },
    {
      "cell_type": "code",
      "metadata": {
        "id": "agx62nqgworK",
        "colab_type": "code",
        "colab": {
          "base_uri": "https://localhost:8080/",
          "height": 408
        },
        "outputId": "bcd7558a-146e-48c8-a2f8-4183562bf024"
      },
      "source": [
        "for i, layer in enumerate(base_model.layers):\n",
        "  print(i, layer.name, layer.output_shape)"
      ],
      "execution_count": 5,
      "outputs": [
        {
          "output_type": "stream",
          "text": [
            "0 input_1 [(None, 224, 224, 3)]\n",
            "1 block1_conv1 (None, 224, 224, 64)\n",
            "2 block1_conv2 (None, 224, 224, 64)\n",
            "3 block1_pool (None, 112, 112, 64)\n",
            "4 block2_conv1 (None, 112, 112, 128)\n",
            "5 block2_conv2 (None, 112, 112, 128)\n",
            "6 block2_pool (None, 56, 56, 128)\n",
            "7 block3_conv1 (None, 56, 56, 256)\n",
            "8 block3_conv2 (None, 56, 56, 256)\n",
            "9 block3_conv3 (None, 56, 56, 256)\n",
            "10 block3_pool (None, 28, 28, 256)\n",
            "11 block4_conv1 (None, 28, 28, 512)\n",
            "12 block4_conv2 (None, 28, 28, 512)\n",
            "13 block4_conv3 (None, 28, 28, 512)\n",
            "14 block4_pool (None, 14, 14, 512)\n",
            "15 block5_conv1 (None, 14, 14, 512)\n",
            "16 block5_conv2 (None, 14, 14, 512)\n",
            "17 block5_conv3 (None, 14, 14, 512)\n",
            "18 block5_pool (None, 7, 7, 512)\n",
            "19 flatten (None, 25088)\n",
            "20 fc1 (None, 4096)\n",
            "21 fc2 (None, 4096)\n",
            "22 predictions (None, 1000)\n"
          ],
          "name": "stdout"
        }
      ]
    },
    {
      "cell_type": "code",
      "metadata": {
        "id": "U3oeull-w_wZ",
        "colab_type": "code",
        "colab": {}
      },
      "source": [
        "# extract features from block4_pool block\n",
        "model = models.Model(inputs=base_model.input, outputs=base_model.get_layer('block4_pool').output)"
      ],
      "execution_count": 0,
      "outputs": []
    },
    {
      "cell_type": "code",
      "metadata": {
        "id": "fBjTXW6xyNyB",
        "colab_type": "code",
        "colab": {}
      },
      "source": [
        "img_path = 'cat.jpg'\n",
        "img = image.load_img(img_path, target_size=(224, 224))\n",
        "x = image.img_to_array(img)\n",
        "x = np.expand_dims(x, axis=0)\n",
        "x = preprocess_input(x)"
      ],
      "execution_count": 0,
      "outputs": []
    },
    {
      "cell_type": "code",
      "metadata": {
        "id": "zhybCN67y7Lf",
        "colab_type": "code",
        "colab": {
          "base_uri": "https://localhost:8080/",
          "height": 1000
        },
        "outputId": "8e4207f1-45bc-4e28-bfed-a377cc04582d"
      },
      "source": [
        "# get the features from the block\n",
        "features = model.predict(x)\n",
        "print(features)"
      ],
      "execution_count": 10,
      "outputs": [
        {
          "output_type": "stream",
          "text": [
            "[[[[  0.         0.        39.12757  ...   0.         0.\n",
            "      0.      ]\n",
            "   [  0.         0.         0.       ...   0.       261.40982\n",
            "      0.      ]\n",
            "   [  0.         0.         0.       ...   0.       376.4143\n",
            "      0.      ]\n",
            "   ...\n",
            "   [  0.         0.         0.       ...   0.       175.46504\n",
            "      0.      ]\n",
            "   [  0.         0.        32.008057 ...   0.         0.\n",
            "      0.      ]\n",
            "   [  0.         0.        76.2813   ...   0.         0.\n",
            "      0.      ]]\n",
            "\n",
            "  [[  0.         0.         0.       ...   0.        50.920372\n",
            "      0.      ]\n",
            "   [  0.         0.        44.453056 ...   0.       123.95481\n",
            "      0.      ]\n",
            "   [  0.         0.        27.892405 ...   0.       573.442\n",
            "      0.      ]\n",
            "   ...\n",
            "   [  0.         0.         0.       ...   0.       683.4284\n",
            "      0.      ]\n",
            "   [  0.         0.         0.       ...   0.        18.347548\n",
            "      0.      ]\n",
            "   [  0.         0.        60.561672 ...   0.         0.\n",
            "      0.      ]]\n",
            "\n",
            "  [[  0.         0.        27.617815 ...   0.         0.\n",
            "      0.      ]\n",
            "   [  0.       372.48434    0.       ...  29.13428    0.\n",
            "      0.      ]\n",
            "   [  0.        34.77293  105.495316 ...   0.         0.\n",
            "      0.      ]\n",
            "   ...\n",
            "   [  0.         0.         0.       ...   0.       823.4674\n",
            "      0.      ]\n",
            "   [  0.         0.         0.       ...   0.        95.23569\n",
            "      0.      ]\n",
            "   [  0.         0.        20.043055 ...   0.         0.\n",
            "      0.      ]]\n",
            "\n",
            "  ...\n",
            "\n",
            "  [[  0.         0.         0.       ...   0.        58.513264\n",
            "      0.      ]\n",
            "   [  0.         0.         0.       ...   0.         0.\n",
            "      0.      ]\n",
            "   [  0.         0.         0.       ...   0.         0.\n",
            "      0.      ]\n",
            "   ...\n",
            "   [  0.         0.         0.       ...   0.       376.75186\n",
            "      0.      ]\n",
            "   [  0.         0.         0.       ...   0.         0.\n",
            "      0.      ]\n",
            "   [  0.         0.         9.004295 ...   0.         0.\n",
            "      0.      ]]\n",
            "\n",
            "  [[  0.         0.         0.       ...   0.       112.54105\n",
            "      0.      ]\n",
            "   [  0.         0.         0.       ...   0.        48.298763\n",
            "      0.      ]\n",
            "   [  0.         0.         0.       ...   0.         0.\n",
            "      0.      ]\n",
            "   ...\n",
            "   [  0.         0.         0.       ...   0.       340.15616\n",
            "      0.      ]\n",
            "   [  0.         0.         0.       ...   0.         0.\n",
            "      0.      ]\n",
            "   [  0.         0.         0.       ...   0.         0.\n",
            "      0.      ]]\n",
            "\n",
            "  [[  0.         0.        33.473633 ...   0.        89.463806\n",
            "      0.      ]\n",
            "   [  0.         0.         0.       ...   0.       169.87445\n",
            "      0.      ]\n",
            "   [  0.         0.         0.       ...   0.         0.\n",
            "      0.      ]\n",
            "   ...\n",
            "   [  0.         0.         0.       ...   0.       142.926\n",
            "      0.      ]\n",
            "   [  0.         0.         0.       ...   0.        14.979055\n",
            "      0.      ]\n",
            "   [  0.         0.        51.729137 ...   0.         0.\n",
            "      0.      ]]]]\n"
          ],
          "name": "stdout"
        }
      ]
    },
    {
      "cell_type": "code",
      "metadata": {
        "id": "xOx_xfwyzI_T",
        "colab_type": "code",
        "colab": {}
      },
      "source": [
        ""
      ],
      "execution_count": 0,
      "outputs": []
    }
  ]
}