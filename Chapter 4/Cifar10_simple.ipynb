{
  "nbformat": 4,
  "nbformat_minor": 0,
  "metadata": {
    "colab": {
      "name": "Cifar10 simple.ipynb",
      "provenance": [],
      "collapsed_sections": []
    },
    "kernelspec": {
      "name": "python3",
      "display_name": "Python 3"
    }
  },
  "cells": [
    {
      "cell_type": "code",
      "metadata": {
        "id": "En8-SaBrHm6M",
        "colab_type": "code",
        "outputId": "6187a14e-3904-4b3e-eae9-cfcf0e79ab93",
        "colab": {
          "base_uri": "https://localhost:8080/",
          "height": 102
        }
      },
      "source": [
        "!pip install -q tensorflow==2.1.0"
      ],
      "execution_count": 0,
      "outputs": [
        {
          "output_type": "stream",
          "text": [
            "\u001b[K     |████████████████████████████████| 421.8MB 27kB/s \n",
            "\u001b[K     |████████████████████████████████| 3.9MB 42.2MB/s \n",
            "\u001b[K     |████████████████████████████████| 450kB 53.1MB/s \n",
            "\u001b[?25h  Building wheel for gast (setup.py) ... \u001b[?25l\u001b[?25hdone\n",
            "\u001b[31mERROR: tensorflow-probability 0.10.0rc0 has requirement gast>=0.3.2, but you'll have gast 0.2.2 which is incompatible.\u001b[0m\n"
          ],
          "name": "stdout"
        }
      ]
    },
    {
      "cell_type": "code",
      "metadata": {
        "id": "uwp4AmuxHqX0",
        "colab_type": "code",
        "colab": {}
      },
      "source": [
        "import tensorflow as tf\n",
        "from tensorflow.keras import datasets, layers, models, optimizers"
      ],
      "execution_count": 0,
      "outputs": []
    },
    {
      "cell_type": "code",
      "metadata": {
        "id": "hAerM-sCIbQU",
        "colab_type": "code",
        "colab": {}
      },
      "source": [
        "# CIFAR is a set of 60k images 32 x 32 pixels on 3 channels\n",
        "IMG_CHANNELS = 3\n",
        "IMG_ROWS = 32\n",
        "IMG_COLS = 32\n",
        "\n",
        "# constant \n",
        "BATCH_SIZE = 128\n",
        "EPOCHS = 20\n",
        "CLASSES = 10\n",
        "VERBOSE = 1\n",
        "VALIDATION_SPLIT = 0.2\n",
        "OPTIM = tf.keras.optimizers.RMSprop()"
      ],
      "execution_count": 0,
      "outputs": []
    },
    {
      "cell_type": "code",
      "metadata": {
        "id": "1SaLtUbRJFSO",
        "colab_type": "code",
        "colab": {}
      },
      "source": [
        "# define the covenet\n",
        "def build(input_shape, classes):\n",
        "  model = models.Sequential()\n",
        "  model.add(layers.Convolution2D(32, (3, 3), activation='relu', input_shape=input_shape))\n",
        "  model.add(layers.MaxPooling2D(pool_size=(2, 2)))\n",
        "  model.add(layers.Dropout(0.25))\n",
        "\n",
        "  model.add(layers.Flatten())\n",
        "  model.add(layers.Dense(512, activation='relu'))\n",
        "  model.add(layers.Dropout(0.5))\n",
        "  model.add(layers.Dense(classes, activation='softmax'))\n",
        "  return model"
      ],
      "execution_count": 0,
      "outputs": []
    },
    {
      "cell_type": "code",
      "metadata": {
        "id": "kfmav7NtK1dQ",
        "colab_type": "code",
        "outputId": "50c63b5c-eed2-45f7-ba4b-6d6337170708",
        "colab": {
          "base_uri": "https://localhost:8080/",
          "height": 51
        }
      },
      "source": [
        "# data: shuffle and split between train and test sets\n",
        "(X_train, y_train), (X_test, y_test) = datasets.cifar10.load_data()"
      ],
      "execution_count": 0,
      "outputs": [
        {
          "output_type": "stream",
          "text": [
            "Downloading data from https://www.cs.toronto.edu/~kriz/cifar-10-python.tar.gz\n",
            "170500096/170498071 [==============================] - 4s 0us/step\n"
          ],
          "name": "stdout"
        }
      ]
    },
    {
      "cell_type": "code",
      "metadata": {
        "id": "F2eYETOeMef6",
        "colab_type": "code",
        "colab": {}
      },
      "source": [
        "# normalize \n",
        "X_train, X_test = X_train/255.0, X_test/255.0"
      ],
      "execution_count": 0,
      "outputs": []
    },
    {
      "cell_type": "code",
      "metadata": {
        "id": "je6utSLbMpoG",
        "colab_type": "code",
        "colab": {}
      },
      "source": [
        "# convert to categorical\n",
        "# convert class vectors to binary class matrices\n",
        "y_train = tf.keras.utils.to_categorical(y_train, CLASSES)\n",
        "y_test = tf.keras.utils.to_categorical(y_test, CLASSES)"
      ],
      "execution_count": 0,
      "outputs": []
    },
    {
      "cell_type": "code",
      "metadata": {
        "id": "nqgUAO-lNfEf",
        "colab_type": "code",
        "outputId": "b21c85a7-83db-40ed-95e8-c0614c00ce15",
        "colab": {
          "base_uri": "https://localhost:8080/",
          "height": 391
        }
      },
      "source": [
        "model = build((IMG_ROWS, IMG_COLS, IMG_CHANNELS), CLASSES)\n",
        "model.summary()"
      ],
      "execution_count": 0,
      "outputs": [
        {
          "output_type": "stream",
          "text": [
            "Model: \"sequential\"\n",
            "_________________________________________________________________\n",
            "Layer (type)                 Output Shape              Param #   \n",
            "=================================================================\n",
            "conv2d (Conv2D)              (None, 30, 30, 32)        896       \n",
            "_________________________________________________________________\n",
            "max_pooling2d (MaxPooling2D) (None, 15, 15, 32)        0         \n",
            "_________________________________________________________________\n",
            "dropout (Dropout)            (None, 15, 15, 32)        0         \n",
            "_________________________________________________________________\n",
            "flatten (Flatten)            (None, 7200)              0         \n",
            "_________________________________________________________________\n",
            "dense (Dense)                (None, 512)               3686912   \n",
            "_________________________________________________________________\n",
            "dropout_1 (Dropout)          (None, 512)               0         \n",
            "_________________________________________________________________\n",
            "dense_1 (Dense)              (None, 10)                5130      \n",
            "=================================================================\n",
            "Total params: 3,692,938\n",
            "Trainable params: 3,692,938\n",
            "Non-trainable params: 0\n",
            "_________________________________________________________________\n"
          ],
          "name": "stdout"
        }
      ]
    },
    {
      "cell_type": "code",
      "metadata": {
        "id": "l2CpGu6rObbR",
        "colab_type": "code",
        "colab": {}
      },
      "source": [
        "%load_ext tensorboard\n",
        "import datetime"
      ],
      "execution_count": 0,
      "outputs": []
    },
    {
      "cell_type": "code",
      "metadata": {
        "id": "yv5JrA9bO-W_",
        "colab_type": "code",
        "colab": {}
      },
      "source": [
        "from tensorflow.keras.callbacks import TensorBoard"
      ],
      "execution_count": 0,
      "outputs": []
    },
    {
      "cell_type": "code",
      "metadata": {
        "id": "xs3Uh4RDPDBw",
        "colab_type": "code",
        "colab": {}
      },
      "source": [
        "log_dir = 'logs/fit/' + datetime.datetime.now(). strftime('%Y%m%d - %H%M%S')\n",
        "tensorboard_callback = TensorBoard(log_dir=log_dir, histogram_freq=1)"
      ],
      "execution_count": 0,
      "outputs": []
    },
    {
      "cell_type": "code",
      "metadata": {
        "id": "omVQN5eRPdll",
        "colab_type": "code",
        "colab": {}
      },
      "source": [
        "model.compile(loss='categorical_crossentropy', optimizer=OPTIM, metrics=['accuracy'])"
      ],
      "execution_count": 0,
      "outputs": []
    },
    {
      "cell_type": "code",
      "metadata": {
        "id": "vcegwYnrPx0N",
        "colab_type": "code",
        "outputId": "18573a32-9482-4984-df92-afdded87dacd",
        "colab": {
          "base_uri": "https://localhost:8080/",
          "height": 731
        }
      },
      "source": [
        "model.fit(X_train, y_train, batch_size=BATCH_SIZE, epochs=EPOCHS, validation_split=VALIDATION_SPLIT, verbose=VERBOSE, callbacks=[tensorboard_callback])"
      ],
      "execution_count": 0,
      "outputs": [
        {
          "output_type": "stream",
          "text": [
            "Train on 40000 samples, validate on 10000 samples\n",
            "Epoch 1/20\n",
            "40000/40000 [==============================] - 55s 1ms/sample - loss: 1.7035 - accuracy: 0.3971 - val_loss: 1.3796 - val_accuracy: 0.5026\n",
            "Epoch 2/20\n",
            "40000/40000 [==============================] - 55s 1ms/sample - loss: 1.3638 - accuracy: 0.5187 - val_loss: 1.3195 - val_accuracy: 0.5299\n",
            "Epoch 3/20\n",
            "40000/40000 [==============================] - 55s 1ms/sample - loss: 1.2361 - accuracy: 0.5663 - val_loss: 1.3186 - val_accuracy: 0.5450\n",
            "Epoch 4/20\n",
            "40000/40000 [==============================] - 56s 1ms/sample - loss: 1.1421 - accuracy: 0.5994 - val_loss: 1.0941 - val_accuracy: 0.6207\n",
            "Epoch 5/20\n",
            "40000/40000 [==============================] - 55s 1ms/sample - loss: 1.0738 - accuracy: 0.6238 - val_loss: 1.0730 - val_accuracy: 0.6313\n",
            "Epoch 6/20\n",
            "40000/40000 [==============================] - 55s 1ms/sample - loss: 1.0137 - accuracy: 0.6469 - val_loss: 1.0995 - val_accuracy: 0.6153\n",
            "Epoch 7/20\n",
            "40000/40000 [==============================] - 55s 1ms/sample - loss: 0.9609 - accuracy: 0.6660 - val_loss: 1.0432 - val_accuracy: 0.6454\n",
            "Epoch 8/20\n",
            "40000/40000 [==============================] - 55s 1ms/sample - loss: 0.9095 - accuracy: 0.6820 - val_loss: 1.0585 - val_accuracy: 0.6426\n",
            "Epoch 9/20\n",
            "40000/40000 [==============================] - 56s 1ms/sample - loss: 0.8670 - accuracy: 0.6969 - val_loss: 1.0188 - val_accuracy: 0.6555\n",
            "Epoch 10/20\n",
            "40000/40000 [==============================] - 56s 1ms/sample - loss: 0.8185 - accuracy: 0.7171 - val_loss: 1.0406 - val_accuracy: 0.6551\n",
            "Epoch 11/20\n",
            "40000/40000 [==============================] - 55s 1ms/sample - loss: 0.7881 - accuracy: 0.7282 - val_loss: 1.0250 - val_accuracy: 0.6542\n",
            "Epoch 12/20\n",
            "40000/40000 [==============================] - 56s 1ms/sample - loss: 0.7519 - accuracy: 0.7370 - val_loss: 1.0488 - val_accuracy: 0.6521\n",
            "Epoch 13/20\n",
            "40000/40000 [==============================] - 56s 1ms/sample - loss: 0.7241 - accuracy: 0.7499 - val_loss: 1.0760 - val_accuracy: 0.6519\n",
            "Epoch 14/20\n",
            "40000/40000 [==============================] - 56s 1ms/sample - loss: 0.6941 - accuracy: 0.7613 - val_loss: 0.9899 - val_accuracy: 0.6821\n",
            "Epoch 15/20\n",
            "40000/40000 [==============================] - 56s 1ms/sample - loss: 0.6562 - accuracy: 0.7715 - val_loss: 0.9981 - val_accuracy: 0.6798\n",
            "Epoch 16/20\n",
            "40000/40000 [==============================] - 56s 1ms/sample - loss: 0.6371 - accuracy: 0.7799 - val_loss: 1.0616 - val_accuracy: 0.6789\n",
            "Epoch 17/20\n",
            "40000/40000 [==============================] - 55s 1ms/sample - loss: 0.6129 - accuracy: 0.7886 - val_loss: 1.0508 - val_accuracy: 0.6756\n",
            "Epoch 18/20\n",
            "40000/40000 [==============================] - 55s 1ms/sample - loss: 0.5917 - accuracy: 0.7940 - val_loss: 1.0736 - val_accuracy: 0.6754\n",
            "Epoch 19/20\n",
            "40000/40000 [==============================] - 55s 1ms/sample - loss: 0.5724 - accuracy: 0.8048 - val_loss: 1.0829 - val_accuracy: 0.6730\n",
            "Epoch 20/20\n",
            "40000/40000 [==============================] - 56s 1ms/sample - loss: 0.5505 - accuracy: 0.8096 - val_loss: 1.0378 - val_accuracy: 0.6919\n"
          ],
          "name": "stdout"
        },
        {
          "output_type": "execute_result",
          "data": {
            "text/plain": [
              "<tensorflow.python.keras.callbacks.History at 0x7f0e015ab320>"
            ]
          },
          "metadata": {
            "tags": []
          },
          "execution_count": 15
        }
      ]
    },
    {
      "cell_type": "code",
      "metadata": {
        "id": "foAvjat3QKw2",
        "colab_type": "code",
        "outputId": "24aaea16-9c35-4737-993d-13c8f65d29e3",
        "colab": {
          "base_uri": "https://localhost:8080/",
          "height": 34
        }
      },
      "source": [
        "score = model.evaluate(X_test, y_test, batch_size=BATCH_SIZE, verbose=VERBOSE)"
      ],
      "execution_count": 0,
      "outputs": [
        {
          "output_type": "stream",
          "text": [
            "10000/10000 [==============================] - 4s 357us/sample - loss: 1.0485 - accuracy: 0.6860\n"
          ],
          "name": "stdout"
        }
      ]
    },
    {
      "cell_type": "code",
      "metadata": {
        "id": "mMCInlvWTGrk",
        "colab_type": "code",
        "outputId": "b590b92a-feb0-4ce8-e32e-1abcbc0c7fbf",
        "colab": {
          "base_uri": "https://localhost:8080/",
          "height": 51
        }
      },
      "source": [
        "print(\"Test Score: \", score[0])\n",
        "print(\"Test Accuracy: \", score[1])"
      ],
      "execution_count": 0,
      "outputs": [
        {
          "output_type": "stream",
          "text": [
            "Test Score:  1.0485174385070801\n",
            "Test Accuracy:  0.686\n"
          ],
          "name": "stdout"
        }
      ]
    },
    {
      "cell_type": "code",
      "metadata": {
        "id": "BNsYetCCX8wm",
        "colab_type": "code",
        "colab": {}
      },
      "source": [
        ""
      ],
      "execution_count": 0,
      "outputs": []
    }
  ]
}