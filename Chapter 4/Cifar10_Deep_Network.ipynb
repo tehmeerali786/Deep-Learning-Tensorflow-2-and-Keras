{
  "nbformat": 4,
  "nbformat_minor": 0,
  "metadata": {
    "colab": {
      "name": "Cifar10 Deep Network.ipynb",
      "provenance": [],
      "collapsed_sections": []
    },
    "kernelspec": {
      "name": "python3",
      "display_name": "Python 3"
    }
  },
  "cells": [
    {
      "cell_type": "code",
      "metadata": {
        "id": "qVPgl2O6x6E4",
        "colab_type": "code",
        "colab": {}
      },
      "source": [
        "!pip install -q tensorflow==2.1.0"
      ],
      "execution_count": 0,
      "outputs": []
    },
    {
      "cell_type": "code",
      "metadata": {
        "id": "4CR74njtyFkg",
        "colab_type": "code",
        "colab": {}
      },
      "source": [
        "import tensorflow as tf"
      ],
      "execution_count": 0,
      "outputs": []
    },
    {
      "cell_type": "code",
      "metadata": {
        "id": "0QdJkDQozL8F",
        "colab_type": "code",
        "outputId": "a3442116-b270-4fd2-8389-2cb53e52e906",
        "colab": {
          "base_uri": "https://localhost:8080/",
          "height": 34
        }
      },
      "source": [
        "print(tf.__version__)"
      ],
      "execution_count": 0,
      "outputs": [
        {
          "output_type": "stream",
          "text": [
            "2.1.0\n"
          ],
          "name": "stdout"
        }
      ]
    },
    {
      "cell_type": "code",
      "metadata": {
        "id": "-CiTU3YEzEqL",
        "colab_type": "code",
        "colab": {}
      },
      "source": [
        "from tensorflow.keras import datasets, layers, models, regularizers, optimizers\n",
        "from tensorflow.keras.preprocessing.image import ImageDataGenerator\n",
        "import numpy as np"
      ],
      "execution_count": 0,
      "outputs": []
    },
    {
      "cell_type": "code",
      "metadata": {
        "id": "BqbYXMnTzcni",
        "colab_type": "code",
        "colab": {}
      },
      "source": [
        "EPOCHS = 50\n",
        "NUM_CLASSES = 10"
      ],
      "execution_count": 0,
      "outputs": []
    },
    {
      "cell_type": "code",
      "metadata": {
        "id": "QoSHOnn-1KSD",
        "colab_type": "code",
        "colab": {}
      },
      "source": [
        "def load_data():\n",
        "  (X_train, y_train), (X_test, y_test) = datasets.cifar10.load_data()\n",
        "  X_train = X_train.astype('float32')\n",
        "  X_test = X_test.astype('float32')\n",
        "\n",
        "  #normalize\n",
        "  mean = np.mean(X_train, axis=(0, 1, 2, 3))\n",
        "  std = np.std(X_train, axis=(0, 1, 2, 3))\n",
        "  X_train = (X_train-mean) / (std + 1e-7)\n",
        "  X_test = (X_test-mean)/ (std + 1e-7)\n",
        "\n",
        "  return X_train, y_train, X_test, y_test"
      ],
      "execution_count": 0,
      "outputs": []
    },
    {
      "cell_type": "code",
      "metadata": {
        "id": "mFf_QkIu20xl",
        "colab_type": "code",
        "colab": {}
      },
      "source": [
        "def build_model():\n",
        "  model =  models.Sequential()\n",
        "\n",
        "  #1st block\n",
        "  model.add(layers.Convolution2D(32, (3, 3), padding='same', input_shape=X_train.shape[1:], activation='relu'))\n",
        "  model.add(layers.BatchNormalization())\n",
        "  model.add(layers.Conv2D(32, (3, 3), padding='same', activation='relu'))\n",
        "  model.add(layers.BatchNormalization())\n",
        "  model.add(layers.MaxPooling2D(pool_size=(2, 2)))\n",
        "  model.add(layers.Dropout(0.2))\n",
        "\n",
        "  #2nd block\n",
        "  model.add(layers.Convolution2D(64, (3, 3), padding='same', activation='relu'))\n",
        "  model.add(layers.BatchNormalization())\n",
        "  model.add(layers.Conv2D(64, (3, 3), padding='same', activation='relu'))\n",
        "  model.add(layers.BatchNormalization())\n",
        "  model.add(layers.MaxPooling2D(pool_size=(2, 2)))\n",
        "  model.add(layers.Dropout(0.3))\n",
        "\n",
        "  #3rd block\n",
        "  model.add(layers.Convolution2D(128, (3, 3), padding='same', activation='relu'))\n",
        "  model.add(layers.BatchNormalization())\n",
        "  model.add(layers.Conv2D(128, (3, 3), padding='same', activation='relu'))\n",
        "  model.add(layers.BatchNormalization())\n",
        "  model.add(layers.MaxPooling2D(pool_size=(2, 2)))\n",
        "  model.add(layers.Dropout(0.4))\n",
        "\n",
        "  # Dense\n",
        "  model.add(layers.Flatten())\n",
        "  model.add(layers.Dense(NUM_CLASSES, activation='softmax'))\n",
        "\n",
        "  return model\n",
        "\n",
        "  model.summary()\n"
      ],
      "execution_count": 0,
      "outputs": []
    },
    {
      "cell_type": "code",
      "metadata": {
        "id": "N_ILOSol6xtC",
        "colab_type": "code",
        "colab": {}
      },
      "source": [
        "(X_train, y_train, X_test, y_test) = load_data()"
      ],
      "execution_count": 0,
      "outputs": []
    },
    {
      "cell_type": "code",
      "metadata": {
        "id": "0VOlprtm68IG",
        "colab_type": "code",
        "colab": {}
      },
      "source": [
        "model = build_model()"
      ],
      "execution_count": 0,
      "outputs": []
    },
    {
      "cell_type": "code",
      "metadata": {
        "id": "5hsFKuvn7m0_",
        "colab_type": "code",
        "colab": {}
      },
      "source": [
        "model.compile(loss='sparse_categorical_crossentropy', optimizer='RMSprop', metrics=['accuracy'])"
      ],
      "execution_count": 0,
      "outputs": []
    },
    {
      "cell_type": "code",
      "metadata": {
        "id": "vYV4ImmW95ba",
        "colab_type": "code",
        "colab": {}
      },
      "source": [
        "import datetime\n",
        "from tensorflow.keras.callbacks import TensorBoard"
      ],
      "execution_count": 0,
      "outputs": []
    },
    {
      "cell_type": "code",
      "metadata": {
        "id": "DEiXTFhS-OKH",
        "colab_type": "code",
        "colab": {}
      },
      "source": [
        "log_dir = 'logs/fit/' + datetime.datetime.now().strftime('%Y%m%d - %H%M%S')\n",
        "tensorboard_callback = TensorBoard(log_dir=log_dir, histogram_freq=1)"
      ],
      "execution_count": 0,
      "outputs": []
    },
    {
      "cell_type": "code",
      "metadata": {
        "id": "fyAnWuAm-nwM",
        "colab_type": "code",
        "outputId": "2ece0f6f-1088-4fa4-eba3-e2395bb41e41",
        "colab": {
          "base_uri": "https://localhost:8080/",
          "height": 1000
        }
      },
      "source": [
        "batch_size = 64\n",
        "model.fit(X_train, y_train, batch_size=batch_size, epochs=EPOCHS, validation_data=(X_test, y_test))"
      ],
      "execution_count": 0,
      "outputs": [
        {
          "output_type": "stream",
          "text": [
            "Train on 50000 samples, validate on 10000 samples\n",
            "Epoch 1/50\n",
            "50000/50000 [==============================] - 422s 8ms/sample - loss: 1.7789 - accuracy: 0.4601 - val_loss: 1.2147 - val_accuracy: 0.6127\n",
            "Epoch 2/50\n",
            "50000/50000 [==============================] - 421s 8ms/sample - loss: 1.0668 - accuracy: 0.6445 - val_loss: 0.8966 - val_accuracy: 0.6916\n",
            "Epoch 3/50\n",
            "50000/50000 [==============================] - 420s 8ms/sample - loss: 0.8424 - accuracy: 0.7151 - val_loss: 0.7599 - val_accuracy: 0.7397\n",
            "Epoch 4/50\n",
            "50000/50000 [==============================] - 418s 8ms/sample - loss: 0.7240 - accuracy: 0.7537 - val_loss: 0.7141 - val_accuracy: 0.7611\n",
            "Epoch 5/50\n",
            "50000/50000 [==============================] - 417s 8ms/sample - loss: 0.6390 - accuracy: 0.7780 - val_loss: 0.6497 - val_accuracy: 0.7844\n",
            "Epoch 6/50\n",
            "50000/50000 [==============================] - 419s 8ms/sample - loss: 0.5837 - accuracy: 0.7988 - val_loss: 0.6358 - val_accuracy: 0.7807\n",
            "Epoch 7/50\n",
            "50000/50000 [==============================] - 427s 9ms/sample - loss: 0.5378 - accuracy: 0.8133 - val_loss: 0.5992 - val_accuracy: 0.7964\n",
            "Epoch 8/50\n",
            "50000/50000 [==============================] - 422s 8ms/sample - loss: 0.5013 - accuracy: 0.8269 - val_loss: 0.5524 - val_accuracy: 0.8132\n",
            "Epoch 9/50\n",
            "50000/50000 [==============================] - 421s 8ms/sample - loss: 0.4640 - accuracy: 0.8380 - val_loss: 0.5348 - val_accuracy: 0.8186\n",
            "Epoch 10/50\n",
            "50000/50000 [==============================] - 421s 8ms/sample - loss: 0.4356 - accuracy: 0.8486 - val_loss: 0.5482 - val_accuracy: 0.8180\n",
            "Epoch 11/50\n",
            "50000/50000 [==============================] - 419s 8ms/sample - loss: 0.4127 - accuracy: 0.8541 - val_loss: 0.4976 - val_accuracy: 0.8327\n",
            "Epoch 12/50\n",
            "50000/50000 [==============================] - 419s 8ms/sample - loss: 0.3896 - accuracy: 0.8650 - val_loss: 0.5233 - val_accuracy: 0.8246\n",
            "Epoch 13/50\n",
            "50000/50000 [==============================] - 417s 8ms/sample - loss: 0.3728 - accuracy: 0.8700 - val_loss: 0.5290 - val_accuracy: 0.8279\n",
            "Epoch 14/50\n",
            "50000/50000 [==============================] - 418s 8ms/sample - loss: 0.3559 - accuracy: 0.8738 - val_loss: 0.5140 - val_accuracy: 0.8311\n",
            "Epoch 15/50\n",
            "50000/50000 [==============================] - 417s 8ms/sample - loss: 0.3409 - accuracy: 0.8796 - val_loss: 0.5189 - val_accuracy: 0.8278\n",
            "Epoch 16/50\n",
            "50000/50000 [==============================] - 421s 8ms/sample - loss: 0.3304 - accuracy: 0.8832 - val_loss: 0.5264 - val_accuracy: 0.8322\n",
            "Epoch 17/50\n",
            "50000/50000 [==============================] - 421s 8ms/sample - loss: 0.3181 - accuracy: 0.8877 - val_loss: 0.4795 - val_accuracy: 0.8452\n",
            "Epoch 18/50\n",
            "50000/50000 [==============================] - 419s 8ms/sample - loss: 0.3029 - accuracy: 0.8930 - val_loss: 0.4794 - val_accuracy: 0.8479\n",
            "Epoch 19/50\n",
            "50000/50000 [==============================] - 420s 8ms/sample - loss: 0.2889 - accuracy: 0.8982 - val_loss: 0.4741 - val_accuracy: 0.8496\n",
            "Epoch 20/50\n",
            "50000/50000 [==============================] - 420s 8ms/sample - loss: 0.2859 - accuracy: 0.8983 - val_loss: 0.4862 - val_accuracy: 0.8451\n",
            "Epoch 21/50\n",
            "50000/50000 [==============================] - 420s 8ms/sample - loss: 0.2700 - accuracy: 0.9051 - val_loss: 0.4949 - val_accuracy: 0.8475\n",
            "Epoch 22/50\n",
            "50000/50000 [==============================] - 420s 8ms/sample - loss: 0.2670 - accuracy: 0.9044 - val_loss: 0.5132 - val_accuracy: 0.8436\n",
            "Epoch 23/50\n",
            "50000/50000 [==============================] - 420s 8ms/sample - loss: 0.2581 - accuracy: 0.9094 - val_loss: 0.4654 - val_accuracy: 0.8532\n",
            "Epoch 24/50\n",
            "50000/50000 [==============================] - 420s 8ms/sample - loss: 0.2538 - accuracy: 0.9092 - val_loss: 0.4798 - val_accuracy: 0.8515\n",
            "Epoch 25/50\n",
            "50000/50000 [==============================] - 421s 8ms/sample - loss: 0.2427 - accuracy: 0.9140 - val_loss: 0.4641 - val_accuracy: 0.8537\n",
            "Epoch 26/50\n",
            "50000/50000 [==============================] - 423s 8ms/sample - loss: 0.2375 - accuracy: 0.9162 - val_loss: 0.4996 - val_accuracy: 0.8426\n",
            "Epoch 27/50\n",
            "50000/50000 [==============================] - 421s 8ms/sample - loss: 0.2319 - accuracy: 0.9174 - val_loss: 0.4870 - val_accuracy: 0.8516\n",
            "Epoch 28/50\n",
            "50000/50000 [==============================] - 423s 8ms/sample - loss: 0.2238 - accuracy: 0.9201 - val_loss: 0.5063 - val_accuracy: 0.8479\n",
            "Epoch 29/50\n",
            "50000/50000 [==============================] - 423s 8ms/sample - loss: 0.2223 - accuracy: 0.9217 - val_loss: 0.4806 - val_accuracy: 0.8559\n",
            "Epoch 30/50\n",
            "50000/50000 [==============================] - 421s 8ms/sample - loss: 0.2108 - accuracy: 0.9243 - val_loss: 0.4887 - val_accuracy: 0.8525\n",
            "Epoch 31/50\n",
            "50000/50000 [==============================] - 420s 8ms/sample - loss: 0.2111 - accuracy: 0.9245 - val_loss: 0.4887 - val_accuracy: 0.8538\n",
            "Epoch 32/50\n",
            "50000/50000 [==============================] - 420s 8ms/sample - loss: 0.2065 - accuracy: 0.9261 - val_loss: 0.5166 - val_accuracy: 0.8535\n",
            "Epoch 33/50\n",
            "50000/50000 [==============================] - 422s 8ms/sample - loss: 0.2007 - accuracy: 0.9281 - val_loss: 0.4886 - val_accuracy: 0.8551\n",
            "Epoch 34/50\n",
            "50000/50000 [==============================] - 423s 8ms/sample - loss: 0.1991 - accuracy: 0.9286 - val_loss: 0.4883 - val_accuracy: 0.8551\n",
            "Epoch 35/50\n",
            "50000/50000 [==============================] - 424s 8ms/sample - loss: 0.1929 - accuracy: 0.9311 - val_loss: 0.4990 - val_accuracy: 0.8530\n",
            "Epoch 36/50\n",
            "50000/50000 [==============================] - 422s 8ms/sample - loss: 0.1903 - accuracy: 0.9315 - val_loss: 0.5205 - val_accuracy: 0.8474\n",
            "Epoch 37/50\n",
            "50000/50000 [==============================] - 422s 8ms/sample - loss: 0.1911 - accuracy: 0.9318 - val_loss: 0.5203 - val_accuracy: 0.8544\n",
            "Epoch 38/50\n",
            "50000/50000 [==============================] - 422s 8ms/sample - loss: 0.1895 - accuracy: 0.9320 - val_loss: 0.4931 - val_accuracy: 0.8552\n",
            "Epoch 39/50\n",
            "50000/50000 [==============================] - 422s 8ms/sample - loss: 0.1801 - accuracy: 0.9352 - val_loss: 0.5181 - val_accuracy: 0.8525\n",
            "Epoch 40/50\n",
            "50000/50000 [==============================] - 424s 8ms/sample - loss: 0.1777 - accuracy: 0.9359 - val_loss: 0.5037 - val_accuracy: 0.8564\n",
            "Epoch 41/50\n",
            "50000/50000 [==============================] - 423s 8ms/sample - loss: 0.1747 - accuracy: 0.9375 - val_loss: 0.5010 - val_accuracy: 0.8570\n",
            "Epoch 42/50\n",
            "50000/50000 [==============================] - 422s 8ms/sample - loss: 0.1734 - accuracy: 0.9380 - val_loss: 0.5036 - val_accuracy: 0.8539\n",
            "Epoch 43/50\n",
            "50000/50000 [==============================] - 424s 8ms/sample - loss: 0.1726 - accuracy: 0.9375 - val_loss: 0.5256 - val_accuracy: 0.8532\n",
            "Epoch 44/50\n",
            "50000/50000 [==============================] - 426s 9ms/sample - loss: 0.1707 - accuracy: 0.9382 - val_loss: 0.5201 - val_accuracy: 0.8574\n",
            "Epoch 45/50\n",
            "50000/50000 [==============================] - 426s 9ms/sample - loss: 0.1675 - accuracy: 0.9394 - val_loss: 0.4904 - val_accuracy: 0.8619\n",
            "Epoch 46/50\n",
            "50000/50000 [==============================] - 427s 9ms/sample - loss: 0.1654 - accuracy: 0.9411 - val_loss: 0.4938 - val_accuracy: 0.8597\n",
            "Epoch 47/50\n",
            "50000/50000 [==============================] - 425s 9ms/sample - loss: 0.1605 - accuracy: 0.9424 - val_loss: 0.5303 - val_accuracy: 0.8582\n",
            "Epoch 48/50\n",
            "50000/50000 [==============================] - 425s 9ms/sample - loss: 0.1574 - accuracy: 0.9431 - val_loss: 0.4966 - val_accuracy: 0.8590\n",
            "Epoch 49/50\n",
            "50000/50000 [==============================] - 424s 8ms/sample - loss: 0.1576 - accuracy: 0.9437 - val_loss: 0.5050 - val_accuracy: 0.8610\n",
            "Epoch 50/50\n",
            "50000/50000 [==============================] - 426s 9ms/sample - loss: 0.1532 - accuracy: 0.9451 - val_loss: 0.4936 - val_accuracy: 0.8631\n"
          ],
          "name": "stdout"
        },
        {
          "output_type": "execute_result",
          "data": {
            "text/plain": [
              "<tensorflow.python.keras.callbacks.History at 0x7f2aa21a1c88>"
            ]
          },
          "metadata": {
            "tags": []
          },
          "execution_count": 35
        }
      ]
    },
    {
      "cell_type": "code",
      "metadata": {
        "id": "0FPzcT-r-86M",
        "colab_type": "code",
        "outputId": "6b10f358-a69c-4742-ea05-691c1caa0bb4",
        "colab": {
          "base_uri": "https://localhost:8080/",
          "height": 34
        }
      },
      "source": [
        "score = model.evaluate(X_test, y_test, batch_size=batch_size)"
      ],
      "execution_count": 0,
      "outputs": [
        {
          "output_type": "stream",
          "text": [
            "10000/10000 [==============================] - 19s 2ms/sample - loss: 0.4936 - accuracy: 0.8631\n"
          ],
          "name": "stdout"
        }
      ]
    },
    {
      "cell_type": "code",
      "metadata": {
        "id": "zh0nhQYZ__vv",
        "colab_type": "code",
        "outputId": "6f31cd31-9437-4ad7-8035-e0a31935bea9",
        "colab": {
          "base_uri": "https://localhost:8080/",
          "height": 51
        }
      },
      "source": [
        "print('Test Score: ', score[0])\n",
        "print('Test Accuracy: ', score[1])"
      ],
      "execution_count": 0,
      "outputs": [
        {
          "output_type": "stream",
          "text": [
            "Test Score:  0.49358755321502684\n",
            "Test Accuracy:  0.8631\n"
          ],
          "name": "stdout"
        }
      ]
    },
    {
      "cell_type": "code",
      "metadata": {
        "id": "wWtjaSa8P6tO",
        "colab_type": "code",
        "colab": {}
      },
      "source": [
        "model.save('CNNDeep.h5')"
      ],
      "execution_count": 0,
      "outputs": []
    },
    {
      "cell_type": "code",
      "metadata": {
        "id": "cXfRC1o9QLRG",
        "colab_type": "code",
        "colab": {}
      },
      "source": [
        ""
      ],
      "execution_count": 0,
      "outputs": []
    }
  ]
}