{
  "nbformat": 4,
  "nbformat_minor": 0,
  "metadata": {
    "colab": {
      "name": "Classifying Image MNIST Estimator.ipynb",
      "provenance": [],
      "collapsed_sections": []
    },
    "kernelspec": {
      "name": "python3",
      "display_name": "Python 3"
    },
    "accelerator": "GPU"
  },
  "cells": [
    {
      "cell_type": "code",
      "metadata": {
        "id": "Qd9FgdUV1_Wa",
        "colab_type": "code",
        "colab": {}
      },
      "source": [
        "!pip install -q tensorflow==2.1.0"
      ],
      "execution_count": 0,
      "outputs": []
    },
    {
      "cell_type": "code",
      "metadata": {
        "id": "_hDq9Q_l2GNR",
        "colab_type": "code",
        "colab": {}
      },
      "source": [
        "import os\n",
        "import time\n",
        "import tensorflow as tf\n",
        "import numpy as np"
      ],
      "execution_count": 0,
      "outputs": []
    },
    {
      "cell_type": "code",
      "metadata": {
        "id": "FJJwKJzoC6cj",
        "colab_type": "code",
        "outputId": "a273750f-7739-4e71-cd10-757d615c3717",
        "colab": {
          "base_uri": "https://localhost:8080/",
          "height": 34
        }
      },
      "source": [
        "tf.test.gpu_device_name()"
      ],
      "execution_count": 0,
      "outputs": [
        {
          "output_type": "execute_result",
          "data": {
            "text/plain": [
              "'/device:GPU:0'"
            ]
          },
          "metadata": {
            "tags": []
          },
          "execution_count": 3
        }
      ]
    },
    {
      "cell_type": "code",
      "metadata": {
        "id": "p0tcZuMCE0Yv",
        "colab_type": "code",
        "colab": {}
      },
      "source": [
        "from tensorflow.python.client import device_lib"
      ],
      "execution_count": 0,
      "outputs": []
    },
    {
      "cell_type": "code",
      "metadata": {
        "id": "RI7EkGbPE_BJ",
        "colab_type": "code",
        "colab": {}
      },
      "source": [
        "def get_available_gpus():\n",
        "  local_device_protos = device_lib.list_local_devices()\n",
        "  return [x.name for x in local_device_protos if x.device_type == 'GPU']"
      ],
      "execution_count": 0,
      "outputs": []
    },
    {
      "cell_type": "code",
      "metadata": {
        "id": "Z3kIKLilNy9S",
        "colab_type": "code",
        "outputId": "9ca7db43-e983-4752-8d2e-98b58e484e79",
        "colab": {
          "base_uri": "https://localhost:8080/",
          "height": 34
        }
      },
      "source": [
        "get_available_gpus()"
      ],
      "execution_count": 0,
      "outputs": [
        {
          "output_type": "execute_result",
          "data": {
            "text/plain": [
              "['/device:GPU:0']"
            ]
          },
          "metadata": {
            "tags": []
          },
          "execution_count": 6
        }
      ]
    },
    {
      "cell_type": "code",
      "metadata": {
        "id": "49ZLMm0iN2kS",
        "colab_type": "code",
        "colab": {}
      },
      "source": [
        ""
      ],
      "execution_count": 0,
      "outputs": []
    },
    {
      "cell_type": "markdown",
      "metadata": {
        "id": "A4xJhQrfN-rk",
        "colab_type": "text"
      },
      "source": [
        "### **train dataset**"
      ]
    },
    {
      "cell_type": "code",
      "metadata": {
        "id": "NpeQ75Z5OCtR",
        "colab_type": "code",
        "colab": {}
      },
      "source": [
        "# How many categories we are pedicting from\n",
        "LABEL_DIMENSION = 10\n",
        "\n",
        "(train_images, train_labels), (test_images, test_labels) = tf.keras.datasets.fashion_mnist.load_data()"
      ],
      "execution_count": 0,
      "outputs": []
    },
    {
      "cell_type": "code",
      "metadata": {
        "id": "TbbmhwsvOivn",
        "colab_type": "code",
        "colab": {}
      },
      "source": [
        "TRAINING_SIZE = len(train_images)\n",
        "TEST_SIZE = len(test_images)"
      ],
      "execution_count": 0,
      "outputs": []
    },
    {
      "cell_type": "code",
      "metadata": {
        "id": "DQMRej5JOxLA",
        "colab_type": "code",
        "colab": {}
      },
      "source": [
        "train_images = np.asarray(train_images, dtype=np.float32) / 255"
      ],
      "execution_count": 0,
      "outputs": []
    },
    {
      "cell_type": "code",
      "metadata": {
        "id": "sHtQlH5jO_CP",
        "colab_type": "code",
        "colab": {}
      },
      "source": [
        "# convert the train images and add channels\n",
        "train_images = train_images.reshape((TRAINING_SIZE, 28, 28, 1))\n"
      ],
      "execution_count": 0,
      "outputs": []
    },
    {
      "cell_type": "code",
      "metadata": {
        "id": "Vk9C_q1dRaAJ",
        "colab_type": "code",
        "colab": {}
      },
      "source": [
        "test_images = np.asarray(test_images, dtype=np.float32) / 255"
      ],
      "execution_count": 0,
      "outputs": []
    },
    {
      "cell_type": "code",
      "metadata": {
        "id": "Vj6yZGDLRiY9",
        "colab_type": "code",
        "colab": {}
      },
      "source": [
        "# Conver the test images and add channels\n",
        "test_images = test_images.reshape(TEST_SIZE, 28, 28, 1)"
      ],
      "execution_count": 0,
      "outputs": []
    },
    {
      "cell_type": "code",
      "metadata": {
        "id": "uElqT92-Sbzu",
        "colab_type": "code",
        "colab": {}
      },
      "source": [
        "train_labels = tf.keras.utils.to_categorical(train_labels, LABEL_DIMENSION)\n",
        "test_labels = tf.keras.utils.to_categorical(test_labels, LABEL_DIMENSION)"
      ],
      "execution_count": 0,
      "outputs": []
    },
    {
      "cell_type": "code",
      "metadata": {
        "id": "daX7BCqITJZH",
        "colab_type": "code",
        "colab": {}
      },
      "source": [
        "# Cast the labels to float\n",
        "train_labels = train_labels.astype(np.float32)\n",
        "test_labels = test_labels.astype(np.float32)"
      ],
      "execution_count": 0,
      "outputs": []
    },
    {
      "cell_type": "code",
      "metadata": {
        "id": "U2-q49hJTwvD",
        "colab_type": "code",
        "outputId": "ce7c3511-0332-45a7-e6d0-53ad39389148",
        "colab": {
          "base_uri": "https://localhost:8080/",
          "height": 51
        }
      },
      "source": [
        "print(train_labels.shape)\n",
        "print(test_labels.shape)"
      ],
      "execution_count": 0,
      "outputs": [
        {
          "output_type": "stream",
          "text": [
            "(60000, 10)\n",
            "(10000, 10)\n"
          ],
          "name": "stdout"
        }
      ]
    },
    {
      "cell_type": "code",
      "metadata": {
        "id": "ABdHzw1sT7cy",
        "colab_type": "code",
        "outputId": "44b9cf18-d1ef-46bc-affc-3a2f36a6e738",
        "colab": {
          "base_uri": "https://localhost:8080/",
          "height": 51
        }
      },
      "source": [
        "print(train_images.shape)\n",
        "print(test_images.shape)"
      ],
      "execution_count": 0,
      "outputs": [
        {
          "output_type": "stream",
          "text": [
            "(60000, 28, 28, 1)\n",
            "(10000, 28, 28, 1)\n"
          ],
          "name": "stdout"
        }
      ]
    },
    {
      "cell_type": "code",
      "metadata": {
        "id": "QCzApwlWT_Oi",
        "colab_type": "code",
        "colab": {}
      },
      "source": [
        ""
      ],
      "execution_count": 0,
      "outputs": []
    },
    {
      "cell_type": "markdown",
      "metadata": {
        "id": "M0tFXeSHUUa6",
        "colab_type": "text"
      },
      "source": [
        "## **Build a CNN Model - Using the functional API**"
      ]
    },
    {
      "cell_type": "code",
      "metadata": {
        "id": "cRqxneWjUcOy",
        "colab_type": "code",
        "colab": {}
      },
      "source": [
        "inputs = tf.keras.Input(shape=(28, 28, 1))\n",
        "x = tf.keras.layers.Conv2D(filters=32, kernel_size=(3, 3), activation='relu')(inputs)\n",
        "x = tf.keras.layers.MaxPool2D(pool_size=(2, 2), strides=2)(x)\n",
        "x = tf.keras.layers.Conv2D(filters=64, kernel_size=(3, 3), activation='relu')(x)\n",
        "x = tf.keras.layers.MaxPool2D(pool_size=(2, 2), strides=2)(x)\n",
        "x = tf.keras.layers.Conv2D(filters=256, kernel_size=(3, 3), activation='relu')(x)\n",
        "\n",
        "x = tf.keras.layers.Flatten()(x)\n",
        "x = tf.keras.layers.Dense(64, activation='relu')(x)\n",
        "x = tf.keras.layers.Dropout(0.2)(x)\n",
        "x = tf.keras.layers.Dense(128, activation='relu')(x)\n",
        "\n",
        "predictions = tf.keras.layers.Dense(LABEL_DIMENSION, activation='softmax')(x)\n",
        "\n",
        "model = tf.keras.Model(inputs=inputs, outputs=predictions)\n",
        "\n"
      ],
      "execution_count": 0,
      "outputs": []
    },
    {
      "cell_type": "code",
      "metadata": {
        "id": "dIDzUvX2WyFf",
        "colab_type": "code",
        "outputId": "907df8cb-41f3-4c23-dc60-7e463ea3276b",
        "colab": {
          "base_uri": "https://localhost:8080/",
          "height": 527
        }
      },
      "source": [
        "model.summary()"
      ],
      "execution_count": 0,
      "outputs": [
        {
          "output_type": "stream",
          "text": [
            "Model: \"model\"\n",
            "_________________________________________________________________\n",
            "Layer (type)                 Output Shape              Param #   \n",
            "=================================================================\n",
            "input_3 (InputLayer)         [(None, 28, 28, 1)]       0         \n",
            "_________________________________________________________________\n",
            "conv2d_3 (Conv2D)            (None, 26, 26, 32)        320       \n",
            "_________________________________________________________________\n",
            "max_pooling2d_2 (MaxPooling2 (None, 13, 13, 32)        0         \n",
            "_________________________________________________________________\n",
            "conv2d_4 (Conv2D)            (None, 11, 11, 64)        18496     \n",
            "_________________________________________________________________\n",
            "max_pooling2d_3 (MaxPooling2 (None, 5, 5, 64)          0         \n",
            "_________________________________________________________________\n",
            "conv2d_5 (Conv2D)            (None, 3, 3, 256)         147712    \n",
            "_________________________________________________________________\n",
            "flatten_1 (Flatten)          (None, 2304)              0         \n",
            "_________________________________________________________________\n",
            "dense_3 (Dense)              (None, 64)                147520    \n",
            "_________________________________________________________________\n",
            "dropout_1 (Dropout)          (None, 64)                0         \n",
            "_________________________________________________________________\n",
            "dense_4 (Dense)              (None, 128)               8320      \n",
            "_________________________________________________________________\n",
            "dense_5 (Dense)              (None, 10)                1290      \n",
            "=================================================================\n",
            "Total params: 323,658\n",
            "Trainable params: 323,658\n",
            "Non-trainable params: 0\n",
            "_________________________________________________________________\n"
          ],
          "name": "stdout"
        }
      ]
    },
    {
      "cell_type": "code",
      "metadata": {
        "id": "iDkNJlWgXCgb",
        "colab_type": "code",
        "colab": {}
      },
      "source": [
        "optimizer = tf.keras.optimizers.SGD()"
      ],
      "execution_count": 0,
      "outputs": []
    },
    {
      "cell_type": "code",
      "metadata": {
        "id": "TdZSjFnXXQd6",
        "colab_type": "code",
        "colab": {}
      },
      "source": [
        "model.compile(loss='categorical_crossentropy', optimizer=optimizer, metrics=['accuracy'])"
      ],
      "execution_count": 0,
      "outputs": []
    },
    {
      "cell_type": "markdown",
      "metadata": {
        "id": "Gc2K5T-lXuuG",
        "colab_type": "text"
      },
      "source": [
        "### **Define Strategy**"
      ]
    },
    {
      "cell_type": "code",
      "metadata": {
        "id": "_y4ZERlMXdyp",
        "colab_type": "code",
        "outputId": "5ec7c320-e300-4d20-9043-2a01b687984d",
        "colab": {
          "base_uri": "https://localhost:8080/",
          "height": 68
        }
      },
      "source": [
        "# strategy = None\n",
        "strategy = tf.distribute.MirroredStrategy()\n",
        "config = tf.estimator.RunConfig(train_distribute=strategy)"
      ],
      "execution_count": 0,
      "outputs": [
        {
          "output_type": "stream",
          "text": [
            "INFO:tensorflow:Using MirroredStrategy with devices ('/job:localhost/replica:0/task:0/device:GPU:0',)\n",
            "INFO:tensorflow:Initializing RunConfig with distribution strategies.\n",
            "INFO:tensorflow:Not using Distribute Coordinator.\n"
          ],
          "name": "stdout"
        }
      ]
    },
    {
      "cell_type": "markdown",
      "metadata": {
        "id": "mHs2ip5jYNNz",
        "colab_type": "text"
      },
      "source": [
        "### **Convert Keras to Estimator**"
      ]
    },
    {
      "cell_type": "code",
      "metadata": {
        "id": "8skUIGWyYI2J",
        "colab_type": "code",
        "outputId": "13c05e6b-e14e-4825-b103-fd7d342350af",
        "colab": {
          "base_uri": "https://localhost:8080/",
          "height": 241
        }
      },
      "source": [
        "estimator = tf.keras.estimator.model_to_estimator(model, config=config)"
      ],
      "execution_count": 0,
      "outputs": [
        {
          "output_type": "stream",
          "text": [
            "WARNING:tensorflow:Using temporary folder as model directory: /tmp/tmpk0arblsq\n",
            "INFO:tensorflow:Using the Keras model provided.\n",
            "WARNING:tensorflow:From /usr/local/lib/python3.6/dist-packages/tensorflow_core/python/ops/resource_variable_ops.py:1635: calling BaseResourceVariable.__init__ (from tensorflow.python.ops.resource_variable_ops) with constraint is deprecated and will be removed in a future version.\n",
            "Instructions for updating:\n",
            "If using Keras pass *_constraint arguments to layers.\n",
            "INFO:tensorflow:Using config: {'_model_dir': '/tmp/tmpk0arblsq', '_tf_random_seed': None, '_save_summary_steps': 100, '_save_checkpoints_steps': None, '_save_checkpoints_secs': 600, '_session_config': allow_soft_placement: true\n",
            "graph_options {\n",
            "  rewrite_options {\n",
            "    meta_optimizer_iterations: ONE\n",
            "  }\n",
            "}\n",
            ", '_keep_checkpoint_max': 5, '_keep_checkpoint_every_n_hours': 10000, '_log_step_count_steps': 100, '_train_distribute': <tensorflow.python.distribute.mirrored_strategy.MirroredStrategy object at 0x7f0bf02941d0>, '_device_fn': None, '_protocol': None, '_eval_distribute': None, '_experimental_distribute': None, '_experimental_max_worker_delay_secs': None, '_session_creation_timeout_secs': 7200, '_service': None, '_cluster_spec': ClusterSpec({}), '_task_type': 'worker', '_task_id': 0, '_global_id_in_cluster': 0, '_master': '', '_evaluation_master': '', '_is_chief': True, '_num_ps_replicas': 0, '_num_worker_replicas': 1, '_distribute_coordinator_mode': None}\n"
          ],
          "name": "stdout"
        }
      ]
    },
    {
      "cell_type": "markdown",
      "metadata": {
        "id": "XgTCLY96YqPp",
        "colab_type": "text"
      },
      "source": [
        "### **Input functin for Estimator**"
      ]
    },
    {
      "cell_type": "code",
      "metadata": {
        "id": "gGbbNybrYeVX",
        "colab_type": "code",
        "colab": {}
      },
      "source": [
        "def input_fn(images, labels, epochs, batch_size):\n",
        "  # Convert the inputs to a Dataset\n",
        "  dataset = tf.data.Dataset.from_tensor_slices((images, labels))\n",
        "\n",
        "  # Shuffle, repeat, and batch the examples\n",
        "  SHUFFLE_SIZE = 5000\n",
        "  dataset = dataset.shuffle(SHUFFLE_SIZE).repeat(epochs).batch(batch_size)\n",
        "  dataset = dataset.prefetch(None)\n",
        "\n",
        "  # Return the dataset\n",
        "  return dataset"
      ],
      "execution_count": 0,
      "outputs": []
    },
    {
      "cell_type": "code",
      "metadata": {
        "id": "_82DCVSPaLSY",
        "colab_type": "code",
        "outputId": "21a41ecd-89c5-408c-a889-ac9a1e797464",
        "colab": {
          "base_uri": "https://localhost:8080/",
          "height": 1000
        }
      },
      "source": [
        "BATCH_SIZE = 512\n",
        "EPOCHS = 50\n",
        "\n",
        "#time_hist = TimeHistory()\n",
        "\n",
        "estimator_train_result = estimator.train(input_fn=lambda:input_fn(train_images,\n",
        "                                         train_labels,\n",
        "                                         epochs=EPOCHS,\n",
        "                                         batch_size=BATCH_SIZE))\n",
        "\n",
        "print(estimator_train_result)"
      ],
      "execution_count": 0,
      "outputs": [
        {
          "output_type": "stream",
          "text": [
            "INFO:tensorflow:Reduce to /replica:0/task:0/device:CPU:0 then broadcast to ('/replica:0/task:0/device:CPU:0',).\n",
            "INFO:tensorflow:Calling model_fn.\n",
            "INFO:tensorflow:Reduce to /replica:0/task:0/device:CPU:0 then broadcast to ('/replica:0/task:0/device:CPU:0',).\n",
            "INFO:tensorflow:Reduce to /replica:0/task:0/device:CPU:0 then broadcast to ('/replica:0/task:0/device:CPU:0',).\n",
            "INFO:tensorflow:Reduce to /replica:0/task:0/device:CPU:0 then broadcast to ('/replica:0/task:0/device:CPU:0',).\n",
            "INFO:tensorflow:Reduce to /replica:0/task:0/device:CPU:0 then broadcast to ('/replica:0/task:0/device:CPU:0',).\n",
            "INFO:tensorflow:Reduce to /replica:0/task:0/device:CPU:0 then broadcast to ('/replica:0/task:0/device:CPU:0',).\n",
            "INFO:tensorflow:Reduce to /replica:0/task:0/device:CPU:0 then broadcast to ('/replica:0/task:0/device:CPU:0',).\n",
            "INFO:tensorflow:Reduce to /replica:0/task:0/device:CPU:0 then broadcast to ('/replica:0/task:0/device:CPU:0',).\n",
            "INFO:tensorflow:Reduce to /replica:0/task:0/device:CPU:0 then broadcast to ('/replica:0/task:0/device:CPU:0',).\n",
            "INFO:tensorflow:Reduce to /replica:0/task:0/device:CPU:0 then broadcast to ('/replica:0/task:0/device:CPU:0',).\n",
            "INFO:tensorflow:Done calling model_fn.\n",
            "INFO:tensorflow:Warm-starting with WarmStartSettings: WarmStartSettings(ckpt_to_initialize_from='/tmp/tmpk0arblsq/keras/keras_model.ckpt', vars_to_warm_start='.*', var_name_to_vocab_info={}, var_name_to_prev_var_name={})\n",
            "INFO:tensorflow:Warm-starting from: /tmp/tmpk0arblsq/keras/keras_model.ckpt\n",
            "INFO:tensorflow:Warm-starting variables only in TRAINABLE_VARIABLES.\n",
            "INFO:tensorflow:Warm-started 12 variables.\n",
            "INFO:tensorflow:Create CheckpointSaverHook.\n",
            "INFO:tensorflow:Graph was finalized.\n",
            "INFO:tensorflow:Running local_init_op.\n",
            "INFO:tensorflow:Done running local_init_op.\n",
            "INFO:tensorflow:Saving checkpoints for 0 into /tmp/tmpk0arblsq/model.ckpt.\n",
            "INFO:tensorflow:loss = 2.2981503, step = 0\n",
            "INFO:tensorflow:global_step/sec: 69.6108\n",
            "INFO:tensorflow:loss = 2.2774782, step = 100 (1.437 sec)\n",
            "INFO:tensorflow:global_step/sec: 73.0837\n",
            "INFO:tensorflow:loss = 2.2229128, step = 200 (1.371 sec)\n",
            "INFO:tensorflow:global_step/sec: 74.065\n",
            "INFO:tensorflow:loss = 2.0320232, step = 300 (1.350 sec)\n",
            "INFO:tensorflow:global_step/sec: 75.854\n",
            "INFO:tensorflow:loss = 1.4137769, step = 400 (1.321 sec)\n",
            "INFO:tensorflow:global_step/sec: 74.3209\n",
            "INFO:tensorflow:loss = 1.210549, step = 500 (1.345 sec)\n",
            "INFO:tensorflow:global_step/sec: 75.1657\n",
            "INFO:tensorflow:loss = 1.0653834, step = 600 (1.326 sec)\n",
            "INFO:tensorflow:global_step/sec: 74.861\n",
            "INFO:tensorflow:loss = 0.98367846, step = 700 (1.338 sec)\n",
            "INFO:tensorflow:global_step/sec: 74.861\n",
            "INFO:tensorflow:loss = 0.93652, step = 800 (1.336 sec)\n",
            "INFO:tensorflow:global_step/sec: 74.6239\n",
            "INFO:tensorflow:loss = 0.96191245, step = 900 (1.339 sec)\n",
            "INFO:tensorflow:global_step/sec: 73.7695\n",
            "INFO:tensorflow:loss = 0.8881585, step = 1000 (1.356 sec)\n",
            "INFO:tensorflow:global_step/sec: 74.5676\n",
            "INFO:tensorflow:loss = 0.8699592, step = 1100 (1.341 sec)\n",
            "INFO:tensorflow:global_step/sec: 75.0494\n",
            "INFO:tensorflow:loss = 0.889883, step = 1200 (1.331 sec)\n",
            "INFO:tensorflow:global_step/sec: 75.8593\n",
            "INFO:tensorflow:loss = 0.8556382, step = 1300 (1.321 sec)\n",
            "INFO:tensorflow:global_step/sec: 74.849\n",
            "INFO:tensorflow:loss = 0.7909189, step = 1400 (1.335 sec)\n",
            "INFO:tensorflow:global_step/sec: 74.9956\n",
            "INFO:tensorflow:loss = 0.8223432, step = 1500 (1.332 sec)\n",
            "INFO:tensorflow:global_step/sec: 74.2112\n",
            "INFO:tensorflow:loss = 0.7089629, step = 1600 (1.346 sec)\n",
            "INFO:tensorflow:global_step/sec: 73.9665\n",
            "INFO:tensorflow:loss = 0.707453, step = 1700 (1.352 sec)\n",
            "INFO:tensorflow:global_step/sec: 72.935\n",
            "INFO:tensorflow:loss = 0.782378, step = 1800 (1.374 sec)\n",
            "INFO:tensorflow:global_step/sec: 73.1262\n",
            "INFO:tensorflow:loss = 0.8007068, step = 1900 (1.368 sec)\n",
            "INFO:tensorflow:global_step/sec: 72.0873\n",
            "INFO:tensorflow:loss = 0.6598439, step = 2000 (1.387 sec)\n",
            "INFO:tensorflow:global_step/sec: 73.3372\n",
            "INFO:tensorflow:loss = 0.6514266, step = 2100 (1.363 sec)\n",
            "INFO:tensorflow:global_step/sec: 74.3962\n",
            "INFO:tensorflow:loss = 0.63268757, step = 2200 (1.345 sec)\n",
            "INFO:tensorflow:global_step/sec: 75.0537\n",
            "INFO:tensorflow:loss = 0.61043847, step = 2300 (1.330 sec)\n",
            "INFO:tensorflow:global_step/sec: 73.5282\n",
            "INFO:tensorflow:loss = 0.65394926, step = 2400 (1.361 sec)\n",
            "INFO:tensorflow:global_step/sec: 73.0048\n",
            "INFO:tensorflow:loss = 0.6507515, step = 2500 (1.372 sec)\n",
            "INFO:tensorflow:global_step/sec: 73.6006\n",
            "INFO:tensorflow:loss = 0.60994184, step = 2600 (1.356 sec)\n",
            "INFO:tensorflow:global_step/sec: 72.5833\n",
            "INFO:tensorflow:loss = 0.650461, step = 2700 (1.380 sec)\n",
            "INFO:tensorflow:global_step/sec: 75.1364\n",
            "INFO:tensorflow:loss = 0.6417349, step = 2800 (1.331 sec)\n",
            "INFO:tensorflow:global_step/sec: 73.3597\n",
            "INFO:tensorflow:loss = 0.63793856, step = 2900 (1.361 sec)\n",
            "INFO:tensorflow:global_step/sec: 73.9174\n",
            "INFO:tensorflow:loss = 0.60165995, step = 3000 (1.356 sec)\n",
            "INFO:tensorflow:global_step/sec: 73.9575\n",
            "INFO:tensorflow:loss = 0.613156, step = 3100 (1.351 sec)\n",
            "INFO:tensorflow:global_step/sec: 71.7447\n",
            "INFO:tensorflow:loss = 0.5856877, step = 3200 (1.392 sec)\n",
            "INFO:tensorflow:global_step/sec: 74.7704\n",
            "INFO:tensorflow:loss = 0.5265198, step = 3300 (1.337 sec)\n",
            "INFO:tensorflow:global_step/sec: 72.8252\n",
            "INFO:tensorflow:loss = 0.50942075, step = 3400 (1.376 sec)\n",
            "INFO:tensorflow:global_step/sec: 72.3727\n",
            "INFO:tensorflow:loss = 0.5454942, step = 3500 (1.382 sec)\n",
            "INFO:tensorflow:global_step/sec: 72.1507\n",
            "INFO:tensorflow:loss = 0.56533265, step = 3600 (1.386 sec)\n",
            "INFO:tensorflow:global_step/sec: 73.7348\n",
            "INFO:tensorflow:loss = 0.5118684, step = 3700 (1.353 sec)\n",
            "INFO:tensorflow:global_step/sec: 74.7396\n",
            "INFO:tensorflow:loss = 0.6515858, step = 3800 (1.338 sec)\n",
            "INFO:tensorflow:global_step/sec: 72.6501\n",
            "INFO:tensorflow:loss = 0.53896874, step = 3900 (1.378 sec)\n",
            "INFO:tensorflow:global_step/sec: 73.0421\n",
            "INFO:tensorflow:loss = 0.521746, step = 4000 (1.367 sec)\n",
            "INFO:tensorflow:global_step/sec: 73.9174\n",
            "INFO:tensorflow:loss = 0.5386883, step = 4100 (1.353 sec)\n",
            "INFO:tensorflow:global_step/sec: 75.0309\n",
            "INFO:tensorflow:loss = 0.6793086, step = 4200 (1.335 sec)\n",
            "INFO:tensorflow:global_step/sec: 72.7639\n",
            "INFO:tensorflow:loss = 0.51454437, step = 4300 (1.375 sec)\n",
            "INFO:tensorflow:global_step/sec: 74.2148\n",
            "INFO:tensorflow:loss = 0.5274346, step = 4400 (1.345 sec)\n",
            "INFO:tensorflow:global_step/sec: 74.1744\n",
            "INFO:tensorflow:loss = 0.536772, step = 4500 (1.348 sec)\n",
            "INFO:tensorflow:global_step/sec: 74.8136\n",
            "INFO:tensorflow:loss = 0.5114323, step = 4600 (1.338 sec)\n",
            "INFO:tensorflow:global_step/sec: 73.3011\n",
            "INFO:tensorflow:loss = 0.43792033, step = 4700 (1.366 sec)\n",
            "INFO:tensorflow:global_step/sec: 73.4468\n",
            "INFO:tensorflow:loss = 0.5710039, step = 4800 (1.359 sec)\n",
            "INFO:tensorflow:global_step/sec: 74.0313\n",
            "INFO:tensorflow:loss = 0.53629893, step = 4900 (1.354 sec)\n",
            "INFO:tensorflow:global_step/sec: 73.1928\n",
            "INFO:tensorflow:loss = 0.54983574, step = 5000 (1.365 sec)\n",
            "INFO:tensorflow:global_step/sec: 72.2849\n",
            "INFO:tensorflow:loss = 0.53264034, step = 5100 (1.381 sec)\n",
            "INFO:tensorflow:global_step/sec: 73.4914\n",
            "INFO:tensorflow:loss = 0.44664687, step = 5200 (1.364 sec)\n",
            "INFO:tensorflow:global_step/sec: 72.7782\n",
            "INFO:tensorflow:loss = 0.5062295, step = 5300 (1.372 sec)\n",
            "INFO:tensorflow:global_step/sec: 73.2108\n",
            "INFO:tensorflow:loss = 0.50750315, step = 5400 (1.367 sec)\n",
            "INFO:tensorflow:global_step/sec: 73.3495\n",
            "INFO:tensorflow:loss = 0.46578526, step = 5500 (1.362 sec)\n",
            "INFO:tensorflow:global_step/sec: 72.9615\n",
            "INFO:tensorflow:loss = 0.5666011, step = 5600 (1.372 sec)\n",
            "INFO:tensorflow:global_step/sec: 73.918\n",
            "INFO:tensorflow:loss = 0.5208791, step = 5700 (1.352 sec)\n",
            "INFO:tensorflow:global_step/sec: 74.4427\n",
            "INFO:tensorflow:loss = 0.40776107, step = 5800 (1.342 sec)\n",
            "INFO:tensorflow:Saving checkpoints for 5860 into /tmp/tmpk0arblsq/model.ckpt.\n",
            "INFO:tensorflow:Loss for final step: 0.57531524.\n",
            "<tensorflow_estimator.python.estimator.estimator.EstimatorV2 object at 0x7f0bf0294898>\n"
          ],
          "name": "stdout"
        }
      ]
    },
    {
      "cell_type": "code",
      "metadata": {
        "id": "UQJ9WE-5aySh",
        "colab_type": "code",
        "outputId": "66cc26c1-7a12-4831-8190-8d68558d1f4c",
        "colab": {
          "base_uri": "https://localhost:8080/",
          "height": 221
        }
      },
      "source": [
        "estimator.evaluate(lambda:input_fn(test_images, test_labels, epochs=1, batch_size=BATCH_SIZE))"
      ],
      "execution_count": 0,
      "outputs": [
        {
          "output_type": "stream",
          "text": [
            "INFO:tensorflow:Calling model_fn.\n",
            "INFO:tensorflow:Done calling model_fn.\n",
            "INFO:tensorflow:Starting evaluation at 2020-04-30T00:21:16Z\n",
            "INFO:tensorflow:Graph was finalized.\n",
            "INFO:tensorflow:Restoring parameters from /tmp/tmpk0arblsq/model.ckpt-5860\n",
            "INFO:tensorflow:Running local_init_op.\n",
            "INFO:tensorflow:Done running local_init_op.\n",
            "INFO:tensorflow:Inference Time : 0.57024s\n",
            "INFO:tensorflow:Finished evaluation at 2020-04-30-00:21:17\n",
            "INFO:tensorflow:Saving dict for global step 5860: accuracy = 0.8199, global_step = 5860, loss = 0.48206782\n",
            "INFO:tensorflow:Saving 'checkpoint_path' summary for global step 5860: /tmp/tmpk0arblsq/model.ckpt-5860\n"
          ],
          "name": "stdout"
        },
        {
          "output_type": "execute_result",
          "data": {
            "text/plain": [
              "{'accuracy': 0.8199, 'global_step': 5860, 'loss': 0.48206782}"
            ]
          },
          "metadata": {
            "tags": []
          },
          "execution_count": 39
        }
      ]
    },
    {
      "cell_type": "code",
      "metadata": {
        "id": "djksTyNwcv3R",
        "colab_type": "code",
        "colab": {}
      },
      "source": [
        ""
      ],
      "execution_count": 0,
      "outputs": []
    }
  ]
}