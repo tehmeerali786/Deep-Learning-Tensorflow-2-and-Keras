{
  "nbformat": 4,
  "nbformat_minor": 0,
  "metadata": {
    "colab": {
      "name": "Sentiment Analysis.ipynb",
      "provenance": [],
      "collapsed_sections": []
    },
    "kernelspec": {
      "name": "python3",
      "display_name": "Python 3"
    }
  },
  "cells": [
    {
      "cell_type": "code",
      "metadata": {
        "id": "lxjzkoiBRGOE",
        "colab_type": "code",
        "outputId": "9cb9d656-9925-4585-c5ae-5f11aa7eac66",
        "colab": {
          "base_uri": "https://localhost:8080/",
          "height": 102
        }
      },
      "source": [
        "!pip install -q tensorflow==2.1.0"
      ],
      "execution_count": 0,
      "outputs": [
        {
          "output_type": "stream",
          "text": [
            "\u001b[K     |████████████████████████████████| 421.8MB 38kB/s \n",
            "\u001b[K     |████████████████████████████████| 450kB 47.7MB/s \n",
            "\u001b[K     |████████████████████████████████| 3.9MB 47.8MB/s \n",
            "\u001b[?25h  Building wheel for gast (setup.py) ... \u001b[?25l\u001b[?25hdone\n",
            "\u001b[31mERROR: tensorflow-probability 0.10.0rc0 has requirement gast>=0.3.2, but you'll have gast 0.2.2 which is incompatible.\u001b[0m\n"
          ],
          "name": "stdout"
        }
      ]
    },
    {
      "cell_type": "code",
      "metadata": {
        "id": "kQMqMGmlRNtX",
        "colab_type": "code",
        "colab": {}
      },
      "source": [
        "import tensorflow as tf\n",
        "from tensorflow.keras import datasets, layers, models, preprocessing\n",
        "import tensorflow_datasets as tfds "
      ],
      "execution_count": 0,
      "outputs": []
    },
    {
      "cell_type": "code",
      "metadata": {
        "id": "9-lcLNw2SoEO",
        "colab_type": "code",
        "colab": {}
      },
      "source": [
        "max_len = 200\n",
        "n_words = 10000\n",
        "dim_embedding = 256\n",
        "EPOCHS = 20\n",
        "BATCH_SIZE = 500"
      ],
      "execution_count": 0,
      "outputs": []
    },
    {
      "cell_type": "code",
      "metadata": {
        "id": "7UNh1mA9TFGc",
        "colab_type": "code",
        "colab": {}
      },
      "source": [
        "def load_data():\n",
        "  # load data\n",
        "  (X_train, y_train), (X_test, y_test) = datasets.imdb.load_data(num_words=n_words)\n",
        "  # Pad sequence with max_lan\n",
        "  X_train = preprocessing.sequence.pad_sequences(X_train, maxlen=max_len)\n",
        "  X_test = preprocessing.sequence.pad_sequences(X_test, maxlen=max_len)\n",
        "  return (X_train, y_train), (X_test, y_test)"
      ],
      "execution_count": 0,
      "outputs": []
    },
    {
      "cell_type": "code",
      "metadata": {
        "id": "kNy5lvTgUoNK",
        "colab_type": "code",
        "colab": {}
      },
      "source": [
        "def build_model():\n",
        "  model = models.Sequential()\n",
        "  #Input - Embedding layer\n",
        "  # the model will take as input as integer matrix of size (batch, input_length)\n",
        "  # the model will output dimension (input_length, dim_embedding)\n",
        "  # the largest integer in the input should be on larger\n",
        "  # than n_words (vocabulary size).\n",
        "  model.add(layers.Embedding(n_words, dim_embedding, input_length=max_len))\n",
        "  model.add(layers.Dropout(0.3))\n",
        "  model.add(layers.Conv1D(256, 3, padding='valid', activation='relu'))\n",
        "\n",
        "  # take the maximum value of either feature vector from each of the n_words features\n",
        "  model.add(layers.GlobalMaxPool1D())\n",
        "  model.add(layers.Dense(128, activation='relu'))\n",
        "  model.add(layers.Dropout(0.5))\n",
        "  model.add(layers.Dense(1, activation='sigmoid'))\n",
        "\n",
        "  return model\n",
        "\n"
      ],
      "execution_count": 0,
      "outputs": []
    },
    {
      "cell_type": "code",
      "metadata": {
        "id": "Hl4yxiF8X8F_",
        "colab_type": "code",
        "outputId": "895e26fa-5181-46ca-9bf1-783bc606074b",
        "colab": {
          "base_uri": "https://localhost:8080/",
          "height": 51
        }
      },
      "source": [
        "(X_train, y_train), (X_test, y_test) = load_data()"
      ],
      "execution_count": 0,
      "outputs": [
        {
          "output_type": "stream",
          "text": [
            "Downloading data from https://storage.googleapis.com/tensorflow/tf-keras-datasets/imdb.npz\n",
            "17465344/17464789 [==============================] - 1s 0us/step\n"
          ],
          "name": "stdout"
        }
      ]
    },
    {
      "cell_type": "code",
      "metadata": {
        "id": "aDhUbdKFYiSq",
        "colab_type": "code",
        "colab": {}
      },
      "source": [
        "model = build_model()"
      ],
      "execution_count": 0,
      "outputs": []
    },
    {
      "cell_type": "code",
      "metadata": {
        "id": "2d78lJJrYqDJ",
        "colab_type": "code",
        "outputId": "b2e43eac-02ea-4857-88f8-574ddef4ccf9",
        "colab": {
          "base_uri": "https://localhost:8080/",
          "height": 391
        }
      },
      "source": [
        "model.summary()"
      ],
      "execution_count": 0,
      "outputs": [
        {
          "output_type": "stream",
          "text": [
            "Model: \"sequential_5\"\n",
            "_________________________________________________________________\n",
            "Layer (type)                 Output Shape              Param #   \n",
            "=================================================================\n",
            "embedding_5 (Embedding)      (None, 200, 256)          2560000   \n",
            "_________________________________________________________________\n",
            "dropout_5 (Dropout)          (None, 200, 256)          0         \n",
            "_________________________________________________________________\n",
            "conv1d_3 (Conv1D)            (None, 198, 256)          196864    \n",
            "_________________________________________________________________\n",
            "global_max_pooling1d_1 (Glob (None, 256)               0         \n",
            "_________________________________________________________________\n",
            "dense_2 (Dense)              (None, 128)               32896     \n",
            "_________________________________________________________________\n",
            "dropout_6 (Dropout)          (None, 128)               0         \n",
            "_________________________________________________________________\n",
            "dense_3 (Dense)              (None, 1)                 129       \n",
            "=================================================================\n",
            "Total params: 2,789,889\n",
            "Trainable params: 2,789,889\n",
            "Non-trainable params: 0\n",
            "_________________________________________________________________\n"
          ],
          "name": "stdout"
        }
      ]
    },
    {
      "cell_type": "code",
      "metadata": {
        "id": "TipnvAOKZX_-",
        "colab_type": "code",
        "colab": {}
      },
      "source": [
        "model.compile(optimizer='adam', loss='binary_crossentropy', metrics=['accuracy'])"
      ],
      "execution_count": 0,
      "outputs": []
    },
    {
      "cell_type": "code",
      "metadata": {
        "id": "zPwCf3DsZ3WW",
        "colab_type": "code",
        "outputId": "93e82e88-c099-46de-b647-1d3a99a5697e",
        "colab": {
          "base_uri": "https://localhost:8080/",
          "height": 714
        }
      },
      "source": [
        "score = model.fit(X_train, y_train, epochs=EPOCHS, batch_size=BATCH_SIZE, validation_data=(X_test, y_test))"
      ],
      "execution_count": 0,
      "outputs": [
        {
          "output_type": "stream",
          "text": [
            "Train on 25000 samples, validate on 25000 samples\n",
            "Epoch 1/20\n",
            "25000/25000 [==============================] - 166s 7ms/sample - loss: 0.6485 - accuracy: 0.6207 - val_loss: 0.5091 - val_accuracy: 0.7652\n",
            "Epoch 2/20\n",
            "25000/25000 [==============================] - 166s 7ms/sample - loss: 0.3905 - accuracy: 0.8290 - val_loss: 0.3019 - val_accuracy: 0.8711\n",
            "Epoch 3/20\n",
            "25000/25000 [==============================] - 165s 7ms/sample - loss: 0.2441 - accuracy: 0.9020 - val_loss: 0.2647 - val_accuracy: 0.8892\n",
            "Epoch 4/20\n",
            "25000/25000 [==============================] - 165s 7ms/sample - loss: 0.1611 - accuracy: 0.9433 - val_loss: 0.2731 - val_accuracy: 0.8862\n",
            "Epoch 5/20\n",
            "25000/25000 [==============================] - 165s 7ms/sample - loss: 0.0954 - accuracy: 0.9704 - val_loss: 0.2840 - val_accuracy: 0.8876\n",
            "Epoch 6/20\n",
            "25000/25000 [==============================] - 167s 7ms/sample - loss: 0.0494 - accuracy: 0.9883 - val_loss: 0.3194 - val_accuracy: 0.8865\n",
            "Epoch 7/20\n",
            "25000/25000 [==============================] - 165s 7ms/sample - loss: 0.0255 - accuracy: 0.9956 - val_loss: 0.3503 - val_accuracy: 0.8873\n",
            "Epoch 8/20\n",
            "25000/25000 [==============================] - 166s 7ms/sample - loss: 0.0145 - accuracy: 0.9979 - val_loss: 0.3834 - val_accuracy: 0.8853\n",
            "Epoch 9/20\n",
            "25000/25000 [==============================] - 168s 7ms/sample - loss: 0.0082 - accuracy: 0.9991 - val_loss: 0.4184 - val_accuracy: 0.8821\n",
            "Epoch 10/20\n",
            "25000/25000 [==============================] - 166s 7ms/sample - loss: 0.0050 - accuracy: 0.9998 - val_loss: 0.4400 - val_accuracy: 0.8831\n",
            "Epoch 11/20\n",
            "25000/25000 [==============================] - 166s 7ms/sample - loss: 0.0037 - accuracy: 0.9998 - val_loss: 0.4566 - val_accuracy: 0.8844\n",
            "Epoch 12/20\n",
            "25000/25000 [==============================] - 165s 7ms/sample - loss: 0.0027 - accuracy: 0.9998 - val_loss: 0.4744 - val_accuracy: 0.8836\n",
            "Epoch 13/20\n",
            "25000/25000 [==============================] - 167s 7ms/sample - loss: 0.0021 - accuracy: 0.9999 - val_loss: 0.4972 - val_accuracy: 0.8812\n",
            "Epoch 14/20\n",
            "25000/25000 [==============================] - 165s 7ms/sample - loss: 0.0018 - accuracy: 0.9999 - val_loss: 0.5059 - val_accuracy: 0.8823\n",
            "Epoch 15/20\n",
            "25000/25000 [==============================] - 165s 7ms/sample - loss: 0.0015 - accuracy: 1.0000 - val_loss: 0.5233 - val_accuracy: 0.8815\n",
            "Epoch 16/20\n",
            "25000/25000 [==============================] - 165s 7ms/sample - loss: 0.0014 - accuracy: 0.9999 - val_loss: 0.5270 - val_accuracy: 0.8819\n",
            "Epoch 17/20\n",
            "25000/25000 [==============================] - 167s 7ms/sample - loss: 0.0011 - accuracy: 1.0000 - val_loss: 0.5451 - val_accuracy: 0.8809\n",
            "Epoch 18/20\n",
            "25000/25000 [==============================] - 165s 7ms/sample - loss: 8.7349e-04 - accuracy: 1.0000 - val_loss: 0.5555 - val_accuracy: 0.8804\n",
            "Epoch 19/20\n",
            "25000/25000 [==============================] - 165s 7ms/sample - loss: 6.4121e-04 - accuracy: 1.0000 - val_loss: 0.5666 - val_accuracy: 0.8814\n",
            "Epoch 20/20\n",
            "25000/25000 [==============================] - 166s 7ms/sample - loss: 7.1283e-04 - accuracy: 1.0000 - val_loss: 0.5731 - val_accuracy: 0.8814\n"
          ],
          "name": "stdout"
        }
      ]
    },
    {
      "cell_type": "code",
      "metadata": {
        "id": "5TaMRhFQaJ9c",
        "colab_type": "code",
        "outputId": "b8a7b7a7-34c9-470f-bae6-306f7c7c6c14",
        "colab": {
          "base_uri": "https://localhost:8080/",
          "height": 34
        }
      },
      "source": [
        "score = model.evaluate(X_test, y_test, batch_size=BATCH_SIZE)"
      ],
      "execution_count": 0,
      "outputs": [
        {
          "output_type": "stream",
          "text": [
            "25000/25000 [==============================] - 33s 1ms/sample - loss: 0.5731 - accuracy: 0.8814\n"
          ],
          "name": "stdout"
        }
      ]
    },
    {
      "cell_type": "code",
      "metadata": {
        "id": "7qC6pDwCwabX",
        "colab_type": "code",
        "outputId": "204b1a0a-6159-4ef4-aec7-bd240cc37948",
        "colab": {
          "base_uri": "https://localhost:8080/",
          "height": 68
        }
      },
      "source": [
        "print(\"\\n Test score: \", score[0])\n",
        "print(\"Test accuracy: \", score[1])"
      ],
      "execution_count": 0,
      "outputs": [
        {
          "output_type": "stream",
          "text": [
            "\n",
            " Test score:  0.5731386971473694\n",
            "Test accuracy:  0.88144\n"
          ],
          "name": "stdout"
        }
      ]
    },
    {
      "cell_type": "code",
      "metadata": {
        "id": "uzcQ8L3zw378",
        "colab_type": "code",
        "colab": {}
      },
      "source": [
        ""
      ],
      "execution_count": 0,
      "outputs": []
    }
  ]
}